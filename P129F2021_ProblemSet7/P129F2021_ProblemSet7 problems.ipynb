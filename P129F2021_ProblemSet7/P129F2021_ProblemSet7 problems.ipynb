{
 "cells": [
  {
   "cell_type": "markdown",
   "metadata": {},
   "source": [
    "# Problem Set 7: Due Saturday Oct 16"
   ]
  },
  {
   "cell_type": "markdown",
   "metadata": {},
   "source": [
    "## Question 1: Lorentz Invariant Phase Space (LIPS) (20 points)"
   ]
  },
  {
   "cell_type": "markdown",
   "metadata": {},
   "source": [
    " In class we argued that the phase space factor\n",
    "$$\n",
    "\\frac{d^3p}{E}                                             \n",
    " $$\n",
    "is Lorentz invariant.  Show explicitly that if we move from an initial reference frame $F$ to another frame $F'$ moving with velocity $\\beta$ with respect to $F$ that the value of the factor above is in fact Lorentz invariant (you may take the velocity being in n the $z$-direction)"
   ]
  },
  {
   "cell_type": "markdown",
   "metadata": {},
   "source": [
    "Write your answer here"
   ]
  },
  {
   "cell_type": "markdown",
   "metadata": {},
   "source": [
    "## Question 2: Solutions to the Dirac Equation (I) Thomson 4.3 (20 points)"
   ]
  },
  {
   "cell_type": "markdown",
   "metadata": {
    "flags": [
     "problems",
     "solutions"
    ]
   },
   "source": [
    "The solutions to the Dirac equation can be written as four spinors labeled $u_1$ through $u_4$.  The explicit form of these spinors is given on slide 16 of Lecture 13 or in Equation 4.48 of Thompson.  By writing the Dirac Equation\n",
    "    $$\n",
    "    \\left (\\gamma^\\mu p_\\mu -m  \\right ) u = 0\n",
    "    $$\n",
    "in matrix form where\n",
    "    $$\n",
    "    p_\\mu = \\left (\\begin{array}{c} E\\\\ p_x \\\\ p_y \\\\ p_z \\end{array} \\right )\n",
    "    $$\n",
    "and $\\gamma^\\mu$ are the matrices given on page of Lecture 13 or Equation~4.35 of Thomson, show that Einstein's energy-momentum relationship $E^2 = p^2+m^2$ is satisfied for each of the four $u$."
   ]
  },
  {
   "cell_type": "markdown",
   "metadata": {},
   "source": [
    "Write your answer here"
   ]
  },
  {
   "cell_type": "markdown",
   "metadata": {},
   "source": [
    "## Question 3: Properties of $\\gamma$ matrices (adapted from Thomson 4.6) (20 points)"
   ]
  },
  {
   "cell_type": "markdown",
   "metadata": {
    "flags": [
     "problems",
     "solutions"
    ]
   },
   "source": [
    "Starting with the relationships:\n",
    "$$\n",
    "\\begin{array}{ccl}\n",
    "\\left ( \\gamma^{0} \\right )^2 & = & I \\\\\n",
    "\\left ( \\gamma^{i} \\right )^2 & = & -I \\\\\n",
    "\\gamma^{\\mu} \\gamma^{\\nu} + \\gamma^{\\nu}\\gamma^{\\mu} & = & 0 \\;\\;(\\mu\\ne \\nu)\\\\\n",
    "\\end{array}\n",
    "$$\n",
    "\n",
    "(where $I$ is the identity matrix)\n",
    "show by considering the 3 cases $\\mu=\\nu =0$, $\\mu=\\nu \\ne 0$ and $\\mu\\ne \\nu$ that\n",
    "\n",
    "$$\n",
    "\\left \\{ \\gamma^\\mu,\\gamma^\\nu \\right \\} = 2g^{\\mu \\nu}\n",
    "$$\n",
    "\n",
    "where $\\left \\{a,b \\right \\}\\equiv ab+ba$"
   ]
  },
  {
   "cell_type": "markdown",
   "metadata": {},
   "source": [
    "Write your answer here"
   ]
  },
  {
   "cell_type": "markdown",
   "metadata": {},
   "source": [
    "## Question 4: Helicity  (20 points)"
   ]
  },
  {
   "cell_type": "markdown",
   "metadata": {},
   "source": [
    "Verify that the helicity operator\n",
    "\n",
    "$$\n",
    "\\hat h = \\frac{\\vec\\Sigma \\cdot \\vec p}{2p} = \\frac{1}{2p} \\left ( \n",
    "\\begin{array}{cc} \\vec \\sigma \\cdot \\vec p & 0 \\\\ 0 & \\vec \\sigma \\cdot \\vec p \\end{array}\n",
    "\\right )\n",
    "$$\n",
    "\n",
    "commutes with the Dirac Hamiltonian\n",
    "\n",
    "$$\n",
    "\\hat H = \\vec \\alpha \\cdot \\vec p + \\beta m\n",
    "$$\n",
    "\n",
    "where\n",
    "$$\n",
    "\\vec \\alpha = \\left (\n",
    "\\begin{array}{cc}\n",
    "0 & \\vec \\sigma \\\\ \\vec \\sigma & 0 \\\\\n",
    "\\end{array}\n",
    "\\right ) \\;\\;; {\\mathrm and} \\;\\;\\;\n",
    "\\beta = \\left (\n",
    "\\begin{array}{cc} I & 0 \\\\ 0 & -I\n",
    "\\end{array}\n",
    "\\right )\n",
    "$$"
   ]
  },
  {
   "cell_type": "markdown",
   "metadata": {},
   "source": [
    "write your answer here"
   ]
  }
 ],
 "metadata": {
  "kernelspec": {
   "display_name": "Python 3 (ipykernel)",
   "language": "python",
   "name": "python3"
  },
  "language_info": {
   "codemirror_mode": {
    "name": "ipython",
    "version": 3
   },
   "file_extension": ".py",
   "mimetype": "text/x-python",
   "name": "python",
   "nbconvert_exporter": "python",
   "pygments_lexer": "ipython3",
   "version": "3.9.7"
  }
 },
 "nbformat": 4,
 "nbformat_minor": 4
}
