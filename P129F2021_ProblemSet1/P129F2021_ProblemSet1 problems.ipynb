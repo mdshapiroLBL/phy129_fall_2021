{
 "cells": [
  {
   "cell_type": "markdown",
   "metadata": {
    "colab_type": "text",
    "id": "naAnuth1-TXQ"
   },
   "source": [
    "# Problem Set 1:  Due Friday Sept 3 11:59PM"
   ]
  },
  {
   "cell_type": "markdown",
   "metadata": {
    "colab_type": "text",
    "id": "LEbqTRrN-TXT"
   },
   "source": [
    "## Question 1: Natural Units"
   ]
  },
  {
   "cell_type": "markdown",
   "metadata": {
    "colab_type": "text",
    "id": "f6EDnJYA_6UP"
   },
   "source": [
    "### Learning objectives\n",
    "In this question you will:\n",
    "*   Become familiar with the system of natural units and learn how to express some standard observables in these units\n",
    "*   Learn what the natural units are forthe Lagrangian, the Lagrangian density and the actiom\n"
   ]
  },
  {
   "cell_type": "markdown",
   "metadata": {
    "colab_type": "text",
    "id": "pAOdqM6w_o3v"
   },
   "source": [
    "It is convenient to choose a set of units such that $\\hbar = c = 1$.  In such units, mass ($m$), momentum ($mc$) and energy ($mc^2$) are expressed in units of GeV and length ($\\hbar /mc$) and time ($\\hbar/mc^2$) are expressed in units of $\\textrm{ GeV}^{-1}$.\n"
   ]
  },
  {
   "cell_type": "markdown",
   "metadata": {
    "colab_type": "text",
    "id": "fRgZu-1g_eSL"
   },
   "source": [
    "### 1a."
   ]
  },
  {
   "cell_type": "markdown",
   "metadata": {
    "colab_type": "text",
    "id": "c4HrnBi4BLb1"
   },
   "source": [
    " Show that in these units, using $m$ to denote the mass of the electron:\n",
    "\n",
    "- The Compton wavelength of an electron is: $m^{-1}$\n",
    "\n",
    "- The Bohr radius of the hydrogen atom is: $(\\alpha m)^{-1}$\n",
    "\n",
    "- The velocity of an electron in its lowest Bohr orbit is: $\\alpha$\n",
    "\n",
    "Note:  You do not need to derive formulae for these quantities, but instead can just quote results from your quantum mechanics class."
   ]
  },
  {
   "cell_type": "markdown",
   "metadata": {
    "colab_type": "text",
    "id": "eFB5B0WI9_NQ"
   },
   "source": [
    "Write your answer here."
   ]
  },
  {
   "cell_type": "markdown",
   "metadata": {
    "colab_type": "text",
    "id": "XzdgqLvbFUoB"
   },
   "source": [
    "### 1b."
   ]
  },
  {
   "cell_type": "markdown",
   "metadata": {
    "colab_type": "text",
    "id": "g9OK3pVxBY-c"
   },
   "source": [
    "In Classical Mechanics, the *Lagrangian* is a useful quantity that helps encapsulate the dynamics of a system via the Euler-Lagrange equations. In a classical system, the Lagrangian can often be expressed as $$ L = T - V$$ where $T$ is the kinetic energy of the system and $V$ is the potential energy of the system. The action, S, of a trajectory is defined as the integral of the Lagrangian with respect to time during the trajectory, i.e. $$ S = \\int L \\hspace{0.05in} dt $$\n",
    "\n",
    "**Find the dimensions of $S$ and $L$ in natural units. Hint: What are the units of $\\hbar$?**\n",
    "\n",
    "Now, according to special relativity, we should treat space and time on equal footing. In natural units, this is quite easy, since converting from one to the other amounts to multiplying or dividing by $c$, which we have set to 1. Thus, we should re-write the action as an integral over all four space-time dimensions. To do this, we introduce the *Lagrangian density* $\\mathcal{L}$, which is defined by: $$L = \\int \\mathcal{L \\hspace{0.05in}} d^3x $$\n",
    "\n",
    "**Rewrite the action in terms of the Lagrangian density. What are the dimensions of the Lagrangian density?**\n",
    "\n",
    "Note: In particle physics, the Lagrangian density is extremely important! In fact, it is so important that we often just called it \"the Lagrangian,\" making the distinction between $L$ and $\\mathcal{L}$ a matter of absolute confusion. Lucky us! Nonetheless, we will focus on the Lagrangian density $\\mathcal{L}$."
   ]
  },
  {
   "cell_type": "markdown",
   "metadata": {
    "colab_type": "text",
    "id": "fovmY78w9-Oz"
   },
   "source": [
    "Write your answer here."
   ]
  },
  {
   "cell_type": "markdown",
   "metadata": {
    "colab_type": "text",
    "id": "UUtHtLcd-vOv"
   },
   "source": [
    "## Question 2: Navigating the Particle Data Group Web Pages"
   ]
  },
  {
   "cell_type": "markdown",
   "metadata": {
    "colab_type": "text",
    "id": "jaKIv9ZxDOsp"
   },
   "source": [
    "### Learning objectives\n",
    "In this question you will:\n",
    "\n",
    "- Explore the particle data group web pages and learn to learn what type of information is available\n",
    "- Learn some basic particle physics facts\n"
   ]
  },
  {
   "cell_type": "markdown",
   "metadata": {
    "colab_type": "text",
    "id": "DLiYcmJ9Dj6I"
   },
   "source": [
    "The Particle Data Group maintains an excellent web site with a compilation of useful information about particle physics.  This information is also available in printed form for free if you write to them. The PDG web address is:\n",
    "https://pdg.lbl.gov/index.html\n",
    "\n",
    "The following questions can be answered just by looking up information on these web pages.  They will familiarize you with the pages and also teach you some basic particle physics facts.  (**Hint**:  The first two parts can be answered by looking in the Summary Tables.  The third uses information from available the plots of measured cross sections accessible under Reviews, Tables and Plots)\n"
   ]
  },
  {
   "cell_type": "markdown",
   "metadata": {
    "colab_type": "text",
    "id": "7CkqOeIQDxKO"
   },
   "source": [
    "### 2a."
   ]
  },
  {
   "cell_type": "markdown",
   "metadata": {
    "colab_type": "text",
    "id": "akLebvBHDGRq"
   },
   "source": [
    "What are the masses of:\n",
    "- the lightest known meson\n",
    "- the lightest Spin 1 meson\n",
    "-  the lightest meson that carries a strangeness quantum number of 1?\n"
   ]
  },
  {
   "cell_type": "markdown",
   "metadata": {
    "colab_type": "text",
    "id": "_SA80mZn-BQu"
   },
   "source": [
    "Write your answer here."
   ]
  },
  {
   "cell_type": "markdown",
   "metadata": {
    "colab_type": "text",
    "id": "_9hn5yKdEC1v"
   },
   "source": [
    "### 2b."
   ]
  },
  {
   "cell_type": "markdown",
   "metadata": {
    "colab_type": "text",
    "id": "9cPdslZeEHuR"
   },
   "source": [
    "The $\\Lambda $ is a baryon that decays weakly. What is its mass and what is the lifetime of the $\\Lambda$?  What are the two most common decay modes of the $\\Lambda$ and fraction of the time does it decay into each of these two modes?\n"
   ]
  },
  {
   "cell_type": "markdown",
   "metadata": {
    "colab_type": "text",
    "id": "44dOaM0k-Bwi"
   },
   "source": [
    "Write your answer here."
   ]
  },
  {
   "cell_type": "markdown",
   "metadata": {
    "colab_type": "text",
    "id": "QtPUfoZkEOuJ"
   },
   "source": [
    "### 2c."
   ]
  },
  {
   "cell_type": "markdown",
   "metadata": {
    "colab_type": "text",
    "id": "_TkcbOF9ESV0"
   },
   "source": [
    "Consider the interaction $\\pi^+ p\\rightarrow \\pi^+p$ ($\\pi p$ elastic scattering).  What is the experimentally measured cross section for each of the following center-of-mass energies: 1.2 GeV, 3 GeV, 6 GeV?  How do these numbers compare to the total $\\pi^+ p$ cross section ($\\pi p \\rightarrow anything$) at each of these energies?\n"
   ]
  },
  {
   "cell_type": "markdown",
   "metadata": {
    "colab_type": "text",
    "id": "opH3KtAH-CZm"
   },
   "source": [
    "Write your answer here."
   ]
  },
  {
   "cell_type": "markdown",
   "metadata": {
    "colab_type": "text",
    "id": "ZgvM5weh-w3h"
   },
   "source": [
    "## Question 3: Easy as Pi"
   ]
  },
  {
   "cell_type": "markdown",
   "metadata": {
    "colab_type": "text",
    "id": "5diZhSDj-TXV"
   },
   "source": [
    "### Learning objectives\n",
    "In this question you will:\n",
    "- understand how Monte Carlo techniques can help answer questions"
   ]
  },
  {
   "cell_type": "markdown",
   "metadata": {
    "colab_type": "text",
    "flags": [
     "problems",
     "solutions"
    ],
    "id": "Grb7n9W9-TXY"
   },
   "source": [
    "\n",
    "\n",
    "Numerical approximation, integration, simulation, or optimization techniques relying on random sampling are known as _Monte Carlo_ methods, after the famous Monte Carlo Casino located in the tiny European principality of Monaco.\n",
    "\n",
    "Such _Monte Carlo_ methods are often used to approximate integrals—here we will explore a simple Monte Carlo algorithm to approximate the numerical value of an integral whose value we actually do know analytically (actually to trillions of digits!), to highlight how the method might be used, snd to confirm that it works as promised.\n",
    "\n",
    "Suppose we remember that $\\pi$ is defined as the ratio of the circumference of a circle to its diameter, but somehow we forgot the actual numerical value.  Or you can imagine we live in an alternative \"steampunk\" reality where computers were invented before the value of $\\pi$ had been ascertained, or we are in a society where the \"wrong\" value of pi has been legislated by a misguided government (this actually almost happened in Indiana in 1897), etc., and we are trying to convince them of their error.\n",
    "\n",
    "We can estimate the value of $\\pi$ via straightforward Monte Carlo sampling.  Imagine throwing darts uniformly at random at a square dartboard marked with an inscribed circle, while keeping track of the proportion of all darts hitting the square that also land inside the circle.\n",
    "\n"
   ]
  },
  {
   "cell_type": "markdown",
   "metadata": {
    "colab_type": "text",
    "id": "S3HoHTNx-TXZ"
   },
   "source": [
    "### 3a. "
   ]
  },
  {
   "cell_type": "markdown",
   "metadata": {
    "colab_type": "text",
    "flags": [
     "problems",
     "solutions"
    ],
    "id": "I2ug1f7u-TXa"
   },
   "source": [
    "If $n$ is the total number of throws hitting the square, and $k$ is the number which fall inside the circle, what is an obvious estimator for the value of $\\pi$?"
   ]
  },
  {
   "cell_type": "markdown",
   "metadata": {
    "colab_type": "text",
    "id": "uPCDqSar-TXd"
   },
   "source": [
    "Write your answer here"
   ]
  },
  {
   "cell_type": "markdown",
   "metadata": {
    "colab_type": "text",
    "id": "POnpczjU-TXh"
   },
   "source": [
    "### 3b. "
   ]
  },
  {
   "cell_type": "markdown",
   "metadata": {
    "colab_type": "text",
    "flags": [
     "problems",
     "solutions"
    ],
    "id": "l_dNpHRR-TXj"
   },
   "source": [
    "\n",
    "\n",
    "And what is the expected root-mean-square (RMS) error in this estimate?\n",
    "\n"
   ]
  },
  {
   "cell_type": "markdown",
   "metadata": {
    "colab_type": "text",
    "id": "AwmHIj0S-TXk"
   },
   "source": [
    "Write your answer here"
   ]
  },
  {
   "cell_type": "markdown",
   "metadata": {
    "colab_type": "text",
    "id": "UiI-dQzq-TXl"
   },
   "source": [
    "### 3c. "
   ]
  },
  {
   "cell_type": "markdown",
   "metadata": {
    "colab_type": "text",
    "flags": [
     "problems",
     "solutions"
    ],
    "id": "7eHYWv6p-TXm"
   },
   "source": [
    "\n",
    "\n",
    "Based on this idea, write code to approximate the value of $\\pi$ for samples sizes in the range $1 \\le n \\le 100\\,000\\,000$ (in reasonable increments). Plot both the predicted RMS error bounds and the actual sample errors (based on the true value of $\\pi$, we we secretly know) over $n$. Repeat these calculations (plotting in different colors) starting from $10$ different initial random seeds.\n",
    "HINT:  To avoid some unnecessary arithmetic, you may want to look at just one quadrant of the square and inscribed circle.\n",
    "\n"
   ]
  },
  {
   "cell_type": "code",
   "execution_count": 2,
   "metadata": {
    "colab": {},
    "colab_type": "code",
    "id": "-fVmGHb0-TXo"
   },
   "outputs": [],
   "source": [
    "#Write your answer here"
   ]
  },
  {
   "cell_type": "markdown",
   "metadata": {
    "colab_type": "text",
    "id": "XusJSGOX-TXv"
   },
   "source": [
    "### 3d. "
   ]
  },
  {
   "cell_type": "markdown",
   "metadata": {
    "colab_type": "text",
    "flags": [
     "problems",
     "solutions"
    ],
    "id": "EEqzEyDP-TXw"
   },
   "source": [
    "\n",
    "Suppose you wanted to determine $\\pi$ with $0.1\\%$ accuracy (at a $99\\%$ confidence).  Roughly estimate the total time required of your Monte Carlo method. "
   ]
  },
  {
   "cell_type": "markdown",
   "metadata": {
    "colab_type": "text",
    "id": "dBv00WS_-TXy"
   },
   "source": [
    "Write your answer here"
   ]
  },
  {
   "cell_type": "markdown",
   "metadata": {
    "colab_type": "text",
    "id": "ptCAdK-L-TX0"
   },
   "source": [
    "## Question 4:  Standard Model Vertices"
   ]
  },
  {
   "cell_type": "markdown",
   "metadata": {
    "colab_type": "text",
    "id": "Blp2IhSf-TX1"
   },
   "source": [
    "### Learning objectives\n",
    "In this question you will:\n",
    "\n",
    "- Understand how Feynman diagrams can be used to describe the interaction of fermions with gauge bosons\n",
    "- Learn which the Standard Model vertices are allowed and which are forbidden"
   ]
  },
  {
   "cell_type": "markdown",
   "metadata": {
    "colab_type": "text",
    "id": "MYm-bsY7-TX3"
   },
   "source": [
    "This problem is taken from Thomson (Problem 1.1):"
   ]
  },
  {
   "cell_type": "markdown",
   "metadata": {},
   "source": [
    "Feynman diagrams are constructed out of the Standard Model vertices shown in\n",
    "Figure 1.4 of Thomson and on pages 14, 17 and 18 of the Lecture 1 slides. Only the weak charged-current ($W_{\\pm}$) interaction can change the flavour of the particle at the interaction vertex. Explaining your reasoning, state whether each of the sixteen diagrams below represents a valid Standard Model vertex."
   ]
  },
  {
   "attachments": {
    "problem1_1-0.png": {
     "image/png": "[encoded data removed]"
    }
   },
   "cell_type": "markdown",
   "metadata": {},
   "source": [
    "![problem1_1-0.png](attachment:problem1_1-0.png)"
   ]
  },
  {
   "cell_type": "markdown",
   "metadata": {
    "colab": {},
    "colab_type": "code",
    "id": "z2pncSmU-TX-"
   },
   "source": [
    "Write your answer here"
   ]
  }
 ],
 "metadata": {
  "colab": {
   "name": "Problem Set 1 problems.ipynb",
   "provenance": [],
   "toc_visible": true
  },
  "kernelspec": {
   "display_name": "Python 3 (ipykernel)",
   "language": "python",
   "name": "python3"
  },
  "language_info": {
   "codemirror_mode": {
    "name": "ipython",
    "version": 3
   },
   "file_extension": ".py",
   "mimetype": "text/x-python",
   "name": "python",
   "nbconvert_exporter": "python",
   "pygments_lexer": "ipython3",
   "version": "3.9.6"
  }
 },
 "nbformat": 4,
 "nbformat_minor": 1
}
