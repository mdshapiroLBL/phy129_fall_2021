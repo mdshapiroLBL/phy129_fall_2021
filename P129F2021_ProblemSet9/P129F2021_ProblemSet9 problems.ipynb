{
 "cells": [
  {
   "cell_type": "markdown",
   "metadata": {},
   "source": [
    "# Problem Set 9: Due Friday Oct 29 "
   ]
  },
  {
   "cell_type": "markdown",
   "metadata": {},
   "source": [
    "## Question 1:  Deep Inelastic Scattering Kinematics (50 points)"
   ]
  },
  {
   "cell_type": "markdown",
   "metadata": {},
   "source": [
    "### Learning objectives\n",
    "In this question you will:\n",
    "- Review the kinematic variables used to describe Deep Inelastic Scattering\n",
    "- Relate the variable $y$ to the scattering angle in the parton-lepton center-or-mass frame\n",
    "- Learn how to express the structure function $F_2$ in terms of the scaling variables $x$ and $y$"
   ]
  },
  {
   "cell_type": "markdown",
   "metadata": {},
   "source": [
    "Consider the process $ep\\rightarrow e + X$. We are going to derive the expression \n",
    "that gives the cross section in terms of the structure functions and the dimensionless variables $x$ and $y$:\n",
    "\n",
    "\\begin{eqnarray*}\n",
    "x & \\equiv &  \\frac{Q^2}{2P\\cdot q}\\\\\n",
    "y & \\equiv & \\frac{P \\cdot q}{P \\cdot k}\\\\\n",
    "\\end{eqnarray*}\n",
    "\n",
    "where $P$ is the initial four-momentum of the proton, $k$ is the initial four-momentum of the electron,\n",
    "$k'$ is the final four-momentumof the electron, $q\\equiv k-k'$ and $Q^2 = - q^2$ (see page 3 of the lecture 17 notes)\n",
    "\n",
    "For this problem, instead of working in either the lab frame of the proton-lepton center of mass frame, we will work in the center of mass frame of the hard scatttering.  That means we will work in the frame where the sum of the three momentum of the parton and the quark is zero::\n",
    "\n",
    "$$\n",
    "\\vec p_q^* + \\vec p_e^* = 0\n",
    "$$\n",
    "\n",
    "where we are using the superscript $^*$ to remind us that we are in the parton-lepton center of mass frame.\n",
    "\n",
    "We will take our coordinates so that the inital momentum of the electron is in the $z$-direction and the final electron makes an angle $\\theta^*$ with respect to the $z$-axis.  We will also assume that all masses can be neglected so that $|\\vec p_e^*| = |\\vec p_q^*| \\equiv E^*$.  "
   ]
  },
  {
   "cell_type": "markdown",
   "metadata": {},
   "source": [
    "### 1a. "
   ]
  },
  {
   "cell_type": "markdown",
   "metadata": {
    "flags": [
     "problems",
     "solutions"
    ]
   },
   "source": [
    "From the definition of $y$, show that\n",
    "\n",
    "$$ y = \\sin^2\\left (\\frac{\\theta^*}{2} \\right ) $$\n"
   ]
  },
  {
   "cell_type": "markdown",
   "metadata": {},
   "source": [
    "Write your answer here"
   ]
  },
  {
   "cell_type": "markdown",
   "metadata": {},
   "source": [
    "### 1b. "
   ]
  },
  {
   "cell_type": "markdown",
   "metadata": {
    "flags": [
     "problems",
     "solutions"
    ]
   },
   "source": [
    "It is possible to derive the cross section for the $e$-parton elastic scattering in the paton-lepton center of mass frame starting from Thomson eq 6.72, but you will not be asked to do that calculation.  We will just quote the solution:\n",
    "\n",
    "$$ \\frac{d\\sigma^{eq}}{d\\Omega} = e_q^2\\frac{\\alpha^2}{8p^{*2} \\sin^4(\\theta^*/2)}\n",
    "\\left [ 1+\\cos^4(\\theta^*/2) \\right ]                                             \n",
    "$$\n",
    "\n",
    "where $e_q$ is the charge of the quark or antiquark in units of $e$ (eg $e_q=2/3$ for up quarks) and  $p^*$ is the incoming momentum of the $e$ in the center-of-mass frame.  Starting with this expression, perform a change of variables to find the differential cross section  $d\\sigma^{eq}/dy$."
   ]
  },
  {
   "cell_type": "markdown",
   "metadata": {},
   "source": [
    "Write your answer here"
   ]
  },
  {
   "cell_type": "markdown",
   "metadata": {},
   "source": [
    "### 1c."
   ]
  },
  {
   "cell_type": "markdown",
   "metadata": {},
   "source": [
    "Use the fact that the deep inelastic $ep$ cross section can be calculated as an incoherent sum over $e$-parton scattering cross\n",
    "sections to turn your expression from part (b) into an expression for the $ep$ scattering cross section $d^2\\sigma^{ep}/dxdy$ in terms of a sum over $f_i(x)$, where $f_i(x)$ is the parton distribution function for parton species $i$. In other words, $f_i(x)$ is defined as the probability of finding a parton of species $i$ that carries a fraction of the proton's momentum between that lies between $x$ and $x+dx$."
   ]
  },
  {
   "cell_type": "markdown",
   "metadata": {},
   "source": [
    "Write your answer here"
   ]
  },
  {
   "cell_type": "markdown",
   "metadata": {},
   "source": [
    "### d."
   ]
  },
  {
   "cell_type": "markdown",
   "metadata": {},
   "source": [
    "Use the definition of $F_2(x)$:\n",
    "\n",
    "$$                                            \n",
    "F_2(x) \\equiv \\sum_i e_i^2 x f_i(x)                                               $$\n",
    "\n",
    "to rewrite $d^2\\sigma^{ep}/dxdy$ in terms of $F_2(x)$ instead of the\n",
    "sum over the $f_i(x)$."
   ]
  },
  {
   "cell_type": "markdown",
   "metadata": {},
   "source": [
    "## Question 2: Hadron Hadron Collisions (50 points)"
   ]
  },
  {
   "cell_type": "markdown",
   "metadata": {},
   "source": [
    "### Learning objectives\n",
    "In this question you will:\n",
    "- Learn that the parton distribution functions measured in Deep Inelastic Scattering can be used in other processes\n",
    "- Apply this to the case of proton-proton collisions"
   ]
  },
  {
   "cell_type": "markdown",
   "metadata": {},
   "source": [
    "### 2a."
   ]
  },
  {
   "cell_type": "markdown",
   "metadata": {},
   "source": [
    "In class this week we learned that Deep Inelastic Scattering cross sections can be used to determine the distribution of partons inside the proton.  The parton distribution functions measured this way can be used in other hadron scattering processes.  For example, consider the process\n",
    "\n",
    "$$\n",
    "p p \\rightarrow \\mu^+ \\mu^- X\n",
    "$$\n",
    "\n",
    "The cross section for this process can be calculated by convoluting the cross section\n",
    "\n",
    "$$\n",
    "\\sigma(q\\overline q \\rightarrow \\mu^+\\mu^-)\n",
    "$$\n",
    "\n",
    "with the appropriate probability distribution functions for finding quark $q$ in one proton and and anti-quark $\\overline q$ in the other proton.  A good picture of this process (taken from Wikpedia) is shown below.  The $q$ amd $\\overline q$ annihilate into a virtual photon that then turns into the lepton pair."
   ]
  },
  {
   "cell_type": "markdown",
   "metadata": {},
   "source": [
    "<img src=\"DrellYan.png\" alt=\"Drawing\" style=\"width:550px;\"/>"
   ]
  },
  {
   "cell_type": "markdown",
   "metadata": {},
   "source": [
    "The cross section for the reaction $pp\\rightarrow \\mu^+\\mu-+X$ is given by\n",
    "\n",
    "$$                                                         \n",
    "\\frac{d\\sigma(p p\\rightarrow \\mu^+ \\mu^- X)}{d\\hat s} = \n",
    "\\sum_{ij} f_i^{(q)} (x_1) f_j^{(\\overline q)} (x_2) \\frac{d\\sigma(q_i\\overline q_j\\rightarrow \\mu^+ \\mu^- X)}{d\\hat s}\n",
    "$$\n",
    "\n",
    "where $\\hat s$ is the square of the $\\mu^+\\mu^-$ invariant mass, $f_i^{(q)}(x_1)$ is the parton distribution function for quarks of species $i$ to carry a fraction $x_1$ of the proton's momentum and  $f_y^{(\\overline q)}(x_2)$ is the parton distribution function for anti-quarks of species $i$ to carry a fraction $x_2$ of the proton's momentum. (this is the same $f_i(x)$ as in the previous problem)  Note that for the process above $i=j$ since the quark and anti-quark must be of the same species.  Later this semester we will see that $W$-boson production occurs with a similar diagram but in that case $i\\ne j$"
   ]
  },
  {
   "cell_type": "markdown",
   "metadata": {},
   "source": [
    "### 2a."
   ]
  },
  {
   "cell_type": "markdown",
   "metadata": {},
   "source": [
    "Prove that the invariant mass squared of the $\\mu^+\\mu^-$ system  \n",
    "$$\\hat s ={x_1 x_2 s}$$\n",
    "where $s$ is the center-of-mass energy squared of the proton-proton collision.\n",
    "\n",
    "Note:  As usual in the parton model, we will assume that the masses of the quarks can be neglected and that their momentum perpendicular to the proton direction of motion is negligable."
   ]
  },
  {
   "cell_type": "markdown",
   "metadata": {},
   "source": [
    "write your answer here"
   ]
  },
  {
   "cell_type": "markdown",
   "metadata": {},
   "source": [
    "### 2b."
   ]
  },
  {
   "cell_type": "markdown",
   "metadata": {},
   "source": [
    "Prove that the longitudinal momentum of the $\\mu^+\\mu^-$ system  (ie the momentum along the beamline)  is \n",
    "\n",
    "$$p_\\parallel =\\left (x_1-x_2 \\right )\\frac{\\sqrt{s}}{2}$$\n",
    "\n",
    "where our sign convention is that parton 1 comes from the left and parton 2 comes from the right. "
   ]
  },
  {
   "cell_type": "markdown",
   "metadata": {},
   "source": [
    "write answer here"
   ]
  },
  {
   "cell_type": "markdown",
   "metadata": {},
   "source": [
    "### 2c"
   ]
  },
  {
   "cell_type": "markdown",
   "metadata": {},
   "source": [
    "The measured values of the parton distribution functions for the quark and anti-quark species and for gluons are shown in the following graph (taken from the Particle Data Group:\n",
    "\n",
    "<img src=\"PDG_pdfs.png\" alt=\"Drawing\" style=\"width:550px;\"/>\n",
    "\n",
    "Here $u_v(x)$ and $d_v(x)$ show the valence quark parton distribution functions and $\\overline d(x)$ and $\\overline u(x)$ show the sea parton distributions (you can make the assumption that the sea quark and anti-quark distributions are the same).  Give a rough estimate of what fraction of Drell Yan production comes from the annihilation of up quarks and anti-quarks relative to the fration that comes from the annihilation of down quarks and antiquarks.  Your answer does not have to be precise but you should explain your reasoning."
   ]
  },
  {
   "cell_type": "raw",
   "metadata": {},
   "source": [
    "# write your answer here"
   ]
  }
 ],
 "metadata": {
  "kernelspec": {
   "display_name": "Python 3 (ipykernel)",
   "language": "python",
   "name": "python3"
  },
  "language_info": {
   "codemirror_mode": {
    "name": "ipython",
    "version": 3
   },
   "file_extension": ".py",
   "mimetype": "text/x-python",
   "name": "python",
   "nbconvert_exporter": "python",
   "pygments_lexer": "ipython3",
   "version": "3.9.7"
  }
 },
 "nbformat": 4,
 "nbformat_minor": 4
}
