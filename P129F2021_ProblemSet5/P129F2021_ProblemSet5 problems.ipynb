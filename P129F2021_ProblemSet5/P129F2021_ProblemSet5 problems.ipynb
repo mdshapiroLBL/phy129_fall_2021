{
 "cells": [
  {
   "cell_type": "markdown",
   "metadata": {},
   "source": [
    "# Problem Set 5: Due Friday Oct 1, 2021"
   ]
  },
  {
   "cell_type": "markdown",
   "metadata": {},
   "source": [
    "## Question 1: Clebsch Gordon Tables (15 Points)"
   ]
  },
  {
   "cell_type": "markdown",
   "metadata": {},
   "source": [
    "### Learning objectives\n",
    "In this question you will:\n",
    "- Review how to read Clebsch Gordon tables and use these tables to translate between the coupled and uncoupled bases in angular momentum or isospin"
   ]
  },
  {
   "cell_type": "markdown",
   "metadata": {},
   "source": [
    "While it is informative to calculate Clebsch-Gordon coefficients once to see how it is done, it is tediuous to have to do this for every case.  Tables of Clebsch Gordon coefficients have been calculated.  A good compilation can be found at\n",
    "\n",
    "https://pdg.lbl.gov/2020/reviews/rpp2020-rev-clebsch-gordan-coefs.pdf.\n",
    "\n",
    "The compilation contains a number of blocks, one for each combination of angular momenta to be added together. For example, adding the spin for a spin-3/2 particle to the spin of a spin-1/2 particle (labeled$ \\frac{3}{2} \\times \\frac{1}{2}$ in the tables) gives the following block:"
   ]
  },
  {
   "cell_type": "markdown",
   "metadata": {},
   "source": [
    "<img src=\"clebschExample.png\" alt=\"Drawing\" style=\"width: 600px;\"/>"
   ]
  },
  {
   "cell_type": "markdown",
   "metadata": {},
   "source": [
    "This block contains five sub-tables. The two left-most columns in each sub-table give the two values $m_1$ and $m_2$. The two top-most rows in each sub-table give the two values $s$ and $m$ . Note that the value of $m$ is the same for all columns in a given subtable and also note that $m_1 + m_2$ always equals this value of $m$ for each row. This is a reflection of the fact that the Clebsch-Gordan coefficients are all zero unless $m_1+m_2=m$ . The other entries give numbers which are related to the values of the coefficients. You need to put a square-root over each entry but if there is minus sign, then\n",
    "that sign goes outside the square root.  You can use this table to either decompose a state of given $m_1$ and $m_2$ into a sum of states of different $s$ (by reading a row) or to decompose a state of given $s$ amd $m$ into a sum of states of different $m_1$ amd $m_2$ (by reading a column).  Our notation is to write the coefficent as $C_{m1 m_2}^{J m_j}$.  In other words, the subscript give the $m_z$ components in the uncoupled basis and the numerator gives the total $J$ and $m_j$ in the coupled basis"
   ]
  },
  {
   "cell_type": "markdown",
   "metadata": {},
   "source": [
    "### 1a. "
   ]
  },
  {
   "cell_type": "markdown",
   "metadata": {},
   "source": [
    "Use the tables to find the coefficients:\n",
    "-  $ C_{\\frac{1}{2} -\\frac{1}{2}}^{00}$ when we start with two spin $\\frac{1}{2}$ particles\n",
    "\n",
    "-  $ C_{00}^{20}$ when we start with a particle with orbital angular momentum 1 and spin 1\n",
    "\n",
    "- $ C_{10}^{21}$ when we start with a particle with orbital angular momentum 1 and spin 1"
   ]
  },
  {
   "cell_type": "markdown",
   "metadata": {},
   "source": [
    "Write your answer here"
   ]
  },
  {
   "cell_type": "markdown",
   "metadata": {},
   "source": [
    "### 1b. "
   ]
  },
  {
   "cell_type": "markdown",
   "metadata": {},
   "source": [
    "For the state $\\left |\\ell=2, s=\\frac{3}{2}, j=\\frac{3}{2}, m_j=\\frac{1}{2} \\right >$, what are the possible combinations of $m_\\ell$ and $m_s$ that can appear in the decomposition? Use the table of Clebsch-Gordan coefficients to expand this state in terms of the $\\left |\\ell s m_\\ell m_s \\right >$  basis states and show that this expansion is properly normalized."
   ]
  },
  {
   "cell_type": "markdown",
   "metadata": {},
   "source": [
    "Write your answer here"
   ]
  },
  {
   "cell_type": "markdown",
   "metadata": {},
   "source": [
    "## Question 2: Isospin: $\\pi N$ scattering (25 Points)"
   ]
  },
  {
   "cell_type": "markdown",
   "metadata": {},
   "source": [
    "### Learning objectives\n",
    "In this question you will:\n",
    "- Review how conservation of isospin in the strong interactions can be used to related scattering rates for different processes related by isospin\n",
    "- Apply this concept to pion nucleon scattering"
   ]
  },
  {
   "cell_type": "markdown",
   "metadata": {},
   "source": [
    "Consider the scattering of a pion with a nucleon.  Since the pion has $I=1$ and the nucleon has $I=\\frac{1}{2}$, there are two possible values of total isospin for this scattering:  $I=\\frac{3}{2}$ and $I=\\frac{1}{2}$.  Isospin conservation in the strong interactions means that the matrix element $H_{if} = \\left < f \\right | H_{int} \\left  | i \\right >$ (where $i$ and $f$ are the initial and final states) depends only on $I$ and not on $I_z$.  \n",
    "\n",
    "There are six possible *elastic scattering* processes:\n",
    "\n",
    "\\begin{eqnarray*}\n",
    "\\pi^{+} p  & \\rightarrow & \\pi^{+} p \\\\\n",
    "\\pi^{0} p  & \\rightarrow & \\pi^{0} p \\\\\n",
    "\\pi^{-} p  & \\rightarrow & \\pi^{-} p \\\\\n",
    "\\pi^{+} n  & \\rightarrow & \\pi^{+} n \\\\\n",
    "\\pi^{0} n  & \\rightarrow & \\pi^{0} n \\\\\n",
    "\\pi^{-} n  & \\rightarrow & \\pi^{-} n \\\\\n",
    "\\end{eqnarray*}\n",
    "\n",
    "And four possible *charge exchange* processes:\n",
    "\n",
    "\\begin{eqnarray*}\n",
    "\\pi^{+} n & \\rightarrow & \\pi^{-} p \\\\\n",
    "\\pi^{0} p & \\rightarrow & \\pi^{+} n \\\\\n",
    "\\pi^{-} p & \\rightarrow & \\pi^{0} n \\\\\n",
    "\\pi^{0} n & \\rightarrow & \\pi^{-} p \\\\\n",
    "\\end{eqnarray*}\n",
    "\n",
    "\n",
    "Since all 10 of these processes have the same phase space terms, the relative rates for the processes can be calculated in terms of only two independent terms: $M_{\\frac{1}{2}} = \\left < I=\\frac{1}{2}\\right | H_{int} \\left | I= \\frac{1}{2}\\right >$ and $M_{\\frac{3}{2}} = \\left < I=\\frac{3}{2}\\right | H_{int} \\left | I= \\frac{3}{2}\\right >$"
   ]
  },
  {
   "cell_type": "markdown",
   "metadata": {},
   "source": [
    "### 2a."
   ]
  },
  {
   "cell_type": "markdown",
   "metadata": {},
   "source": [
    "For the state $\\pi^+ p$ we can describe the isospin of the state in the uncoupled and coupled bases:\n",
    "$$\n",
    "\\left |m_1=+1, m_2=\\frac{1}{2} \\right > = \\left |I=\\frac{3}{2}, m=\\frac{3}{2} \\right >\n",
    "$$\n",
    "\n",
    "For the other five possible $\\pi N$ charge combinations (corresponding to the left hand side of the elastic scattering interactions listed above), write the description of the isospin state using the same nomenclature.  You may look up the Clebsch-Gordon coefficients in a Clebsch-Gordon table."
   ]
  },
  {
   "cell_type": "markdown",
   "metadata": {},
   "source": [
    "Write your answer here"
   ]
  },
  {
   "cell_type": "markdown",
   "metadata": {},
   "source": [
    "### 2b."
   ]
  },
  {
   "cell_type": "markdown",
   "metadata": {},
   "source": [
    "Using the results from 2a. and the fact that the scatttering cross sections are proportional to $\\left |H_{if} \\right |^2$ calculate the ratios of the cross sections for the following processes:\n",
    "\n",
    "\\begin{eqnarray*}\n",
    "(a) & & \\frac{\\sigma(\\pi^{-} p\\rightarrow \\pi^{-} p)}{\\sigma(\\pi^{+} p\\rightarrow \\pi^{+} p)} \\\\\n",
    "(b) & & \\frac{\\sigma(\\pi^{-} p\\rightarrow \\pi^{0} n)}{\\sigma(\\pi^{-} p\\rightarrow \\pi^{-} p)}\\\\\n",
    "(c) & & \\frac{\\sigma(\\pi^{0} n\\rightarrow \\pi^{-} p)}{\\sigma(\\pi^{0} n\\rightarrow \\pi^{0} n)}\n",
    "\\end{eqnarray*}\n",
    "\n",
    "Express your answers in terms of $M_{\\frac{1}{2}}$ and $M_{\\frac{3}{2}}$"
   ]
  },
  {
   "cell_type": "markdown",
   "metadata": {},
   "source": [
    "Write your answer here"
   ]
  },
  {
   "cell_type": "markdown",
   "metadata": {},
   "source": [
    "## Question 3: Isospin:  The $\\Delta$ resonance (Thomson 9.3) (15 points)"
   ]
  },
  {
   "cell_type": "markdown",
   "metadata": {},
   "source": [
    "### Learning objectives\n",
    "In this question you will:\n",
    "- Review the fact that isospin conservation in the strong interaction can also be used to relate decay rates\n",
    "- Apply this concept to the case od $\\Delta$ decays"
   ]
  },
  {
   "cell_type": "markdown",
   "metadata": {},
   "source": [
    "By considering the isospin states show that the rates for the following strong interaction decays occur in the ratios:\n",
    "$$\n",
    "\\begin{array}{cccc}\n",
    "\\Gamma(\\Delta^{-} \\rightarrow \\pi^{-} n) : &\n",
    "\\Gamma(\\Delta^{0} \\rightarrow \\pi^{-} p) : & \n",
    "\\Gamma(\\Delta^{0} \\rightarrow \\pi^{0} n) : & \n",
    "\\Gamma(\\Delta^{+} \\rightarrow \\pi^{+} n) : \\\\\n",
    " \\Gamma(\\Delta^{+} \\rightarrow \\pi^{0} p) : & \n",
    "\\Gamma(\\Delta^{++} \\rightarrow \\pi^{+} p)  & \n",
    "= &   3:1:2:1:2:3 &  \\\\\n",
    "\\end{array}\n",
    "$$\n",
    "\n",
    "Note:  Because the $\\Delta$ can be created in $\\pi^+ p$ scattering, we know that it has isospin $I=\\frac{3}{2}$"
   ]
  },
  {
   "cell_type": "markdown",
   "metadata": {},
   "source": [
    "Write your answer here"
   ]
  },
  {
   "cell_type": "markdown",
   "metadata": {},
   "source": [
    "## Question 4 SU(3) $\\lambda $ matrices (25 points)"
   ]
  },
  {
   "cell_type": "markdown",
   "metadata": {},
   "source": [
    "### Learning objectives\n",
    "In this question you will:\n",
    "- Review the definition of the $\\lambda$ matrices (the generators of SU(3) symmetry)\n",
    "- Show that the SU(3) group contains three SU(2) subgroups and construct the raising and lowering operators for these subgroups"
   ]
  },
  {
   "cell_type": "markdown",
   "metadata": {},
   "source": [
    "We learned in Quantum Mechanics that the smallest representation of angular momentum has dimension 2 (spin-$\\frac{1}{2}$) and that the generators of infinitesmal rotations in this fundamental representation can be written as the three $2\\times 2$ Pauli matrices $\\sigma_x$, $\\sigma_y$ and $\\sigma_z$ that satisfy the SU(2) commutation relations \n",
    "$$\\left [\\frac{1}{2}\\sigma_i, \\frac{1}{2}\\sigma_j \\right ] = i \\epsilon_{ijk} \\frac{1}{2} \\sigma_k$$\n",
    "\n",
    "Similarly, the fundamental representation of SU3) can be written as a set of eight $3\\times 3$ matrices called the $\\lambda$-martices:\n",
    "\n",
    "\\begin{eqnarray*}\n",
    "\\lambda_1 = \\left( \n",
    "\\begin{array}{ccc} 0 & 1 & 0 \\\\ 1 & 0 & 0 \\\\ 0 & 0 & 0 \\\\\n",
    "\\end{array} \\right)\n",
    "& \n",
    "\\lambda_2 = \\left( \n",
    "\\begin{array}{ccc} 0 & -i & 0 \\\\ i & 0 & 0 \\\\ 0 & 0 & 0 \\\\\n",
    "\\end{array} \\right)\n",
    "&\n",
    "\\lambda_3 = \\left( \n",
    "\\begin{array}{ccc} 1 & 0 & 0 \\\\ 0 & -1 & 0 \\\\ 0 & 0 & 0 \\\\\n",
    "\\end{array} \\right)\n",
    "\\\\\n",
    "\\lambda_4 = \\left( \n",
    "\\begin{array}{ccc} 0 & 0 & 1 \\\\ 0 & 0 & 0 \\\\ 1 & 0 & 0 \\\\ \n",
    "\\end{array} \\right)\n",
    "& \n",
    "\\lambda_5 = \\left( \n",
    "\\begin{array}{ccc} 0 & 0 & -i \\\\ 0 & 0 & 0 \\\\ i & 0 & 0 \\\\\n",
    "\\end{array} \\right)\n",
    "&\n",
    "\\lambda_6 = \\left( \n",
    "\\begin{array}{ccc} 0 & 0 & 0 \\\\ 0 & 0 & 1 \\\\ 0 & 1 & 0 \\\\\n",
    "\\end{array} \\right)\n",
    "\\\\\n",
    "\\lambda_7 = \\left( \n",
    "\\begin{array}{ccc} 0 & 0 & 0 \\\\ 0 & 0 & -i \\\\ 0 & i & 0 \\\\\n",
    "\\end{array} \\right)\n",
    "& &\n",
    "\\lambda_8 = \\frac{1}{\\sqrt{3}}\\left( \n",
    "\\begin{array}{ccc} 1 & 0 & 0 \\\\ 0 & 1 & 0 \\\\ 0 & 0 & -2 \\\\\n",
    "\\end{array} \\right)\n",
    " \\\\\n",
    "\\end{eqnarray*}"
   ]
  },
  {
   "cell_type": "markdown",
   "metadata": {},
   "source": [
    "### 4a."
   ]
  },
  {
   "cell_type": "markdown",
   "metadata": {},
   "source": [
    "Examining the first three $\\lambda$ shows that they are just the Pauli matrices with zeros added in the third row and column.  Thus, these three matrices form a subgroup of SU(2) within the SU(3) group and obey the commutation relations we know from angular momentum.  This is one of three SU(2) subgroups within the SU(2) group.  We call them:\n",
    "$$\n",
    "\\begin{array}{lccc}\n",
    "{\\rm Isospin} & \\lambda_1 & \\lambda_2 & \\lambda_3 \\\\\n",
    "{\\rm U-spin:} &  \\lambda_4 & \\lambda_5& \\frac{1}{2} \\left (\\sqrt{3}\\lambda_8+\\lambda_3\\right )\\\\\n",
    "{\\rm V-spin:} &  \\lambda_6 & \\lambda_7& \\frac{1}{2} \\left (\\sqrt{3}\\lambda_8 -\\lambda_3 \\right )\\\\\n",
    "\\end{array}\n",
    "$$\n",
    "Using explicity matrix multiplication.  Show that the generator of U-spin and V-spin satisfy the commutation relations that define the SU(2) algebra."
   ]
  },
  {
   "cell_type": "markdown",
   "metadata": {},
   "source": [
    "Write your answer here"
   ]
  },
  {
   "cell_type": "markdown",
   "metadata": {},
   "source": [
    "### 4b."
   ]
  },
  {
   "cell_type": "markdown",
   "metadata": {},
   "source": [
    "The fundamental representation of SU(3) can be written as the three column matrices which in we call in the quark model:\n",
    "$$\n",
    "\\begin{array}{ccc}\n",
    "u \\equiv \\left (\n",
    "\\begin{array}{c} \n",
    "1\\\\ 0 \\\\ 0 \n",
    "\\end{array}\n",
    "\\right )\n",
    "&\n",
    "d \\equiv \\left (\n",
    "\\begin{array}{c} \n",
    "0\\\\ 1 \\\\ 0 \n",
    "\\end{array}\n",
    "\\right )\n",
    "& \n",
    "s \\equiv \\left (\n",
    "\\begin{array}{c} \n",
    "0\\\\ 0 \\\\ 1 \n",
    "\\end{array}\n",
    "\\right )\n",
    "\\\\\n",
    "\\end{array}\n",
    "$$\n",
    "Show that the raising (lowering) operators\n",
    "$$\n",
    "\\begin{array}{ccc}\n",
    "I_{\\pm} = \\frac{1}{2} \\left (\\lambda_1 \\pm i \\lambda_2 \\right ) &\n",
    "U_{\\pm} = \\frac{1}{2} \\left (\\lambda_4 \\pm i \\lambda_5 \\right )\n",
    "& \n",
    "V_{\\pm} = \\frac{1}{2} \\left (\\lambda_6 \\pm i \\lambda_7 \\right )\n",
    "\\end{array}\n",
    "$$\n",
    "turn $u$ into $d$ (and visa versa), $u$ into $s$ (and visa versa) and $d$ into $s$ (and visa veras)"
   ]
  },
  {
   "cell_type": "markdown",
   "metadata": {},
   "source": [
    "Write your answer here"
   ]
  },
  {
   "cell_type": "markdown",
   "metadata": {},
   "source": [
    "## Question 5: $\\Lambda^{0} $ polarization in the strong interactions (20 points) "
   ]
  },
  {
   "cell_type": "markdown",
   "metadata": {},
   "source": [
    "### Learning objectives\n",
    "In this question you will:\n",
    "\n",
    "- Apply the concept of parity conservation in the strong interactions to determine what functional forms are allowed for a specific observable (the polarization)"
   ]
  },
  {
   "cell_type": "markdown",
   "metadata": {},
   "source": [
    "Consider the production of $\\Lambda$ particles via a strong interaction:\n",
    "\n",
    "$$\n",
    "p + p \\rightarrow \\Lambda^{0} + X\n",
    "$$\n",
    "\n",
    "where $X$ represents one of more additional final state particles that are not necessarily observed. Assume that the $\\Lambda^{0}$ and  $X$ each have the same parity as the proton. Also assume that the initial protons are unpolarized.   In the center-of-mass frame, the momentum vectors of the two protons and the $\\Lambda^{0}$ all lie in a plane, called the production plane:"
   ]
  },
  {
   "cell_type": "markdown",
   "metadata": {},
   "source": [
    "<img src=\"productionPlane.png\" alt=\"Drawing\" style=\"width: 600px;\"/>"
   ]
  },
  {
   "cell_type": "markdown",
   "metadata": {},
   "source": [
    "It has been observed that $\\Lambda^{0}$ (which are spin 1/2 particles) are polarized.  This means that the expectation value  $\\left < \\vec S_{\\Lambda} \\cdot \\hat n\\right > \\ne 0$ for certain unit vectors $\\hat n$.  Here $\\vec S_{\\Lambda}$ is the spin vector of the $\\Lambda^{0}$.  \n",
    "\n",
    "In this problem, you will determine what possible directions $\\hat n$ can have."
   ]
  },
  {
   "cell_type": "markdown",
   "metadata": {},
   "source": [
    "### 5a. "
   ]
  },
  {
   "cell_type": "markdown",
   "metadata": {},
   "source": [
    "Show that if $\\hat n$ lies in the production plane, then $\\left < \\vec S_{\\Lambda} \\cdot \\hat n\\right > = 0$ if parity is conserved "
   ]
  },
  {
   "cell_type": "markdown",
   "metadata": {},
   "source": [
    "#Write your answer here"
   ]
  },
  {
   "cell_type": "markdown",
   "metadata": {},
   "source": [
    "### 5b. "
   ]
  },
  {
   "cell_type": "markdown",
   "metadata": {},
   "source": [
    "Show that a non-zero value of $\\left < \\vec S_{\\Lambda} \\cdot \\hat n\\right > $ is possible if $\\hat n$ is perpendicular to the production plane"
   ]
  },
  {
   "cell_type": "markdown",
   "metadata": {},
   "source": [
    "###  Hints:\n",
    "\n",
    "1) Work in the center-of-mass frame since this is where the production plane is defined.  For each of the two cases (in the production plane and out of the production plane), the unit vector $\\hat n$ direction can be written as an expression that depends the 3-momenta of the specified particles (perhaps with free parameters).\n",
    "\n",
    "2) In the center of mass frame of two unpolarized colliding particles of the same species, the scattering rate must be be a symmetric function of $\\cos \\theta^*$ (the polar angle with respect to the $pp$ direction) since there is no distinction between the forward and backward directions.  \n"
   ]
  },
  {
   "cell_type": "markdown",
   "metadata": {},
   "source": [
    "#Write your answer here"
   ]
  }
 ],
 "metadata": {
  "kernelspec": {
   "display_name": "Python 3 (ipykernel)",
   "language": "python",
   "name": "python3"
  },
  "language_info": {
   "codemirror_mode": {
    "name": "ipython",
    "version": 3
   },
   "file_extension": ".py",
   "mimetype": "text/x-python",
   "name": "python",
   "nbconvert_exporter": "python",
   "pygments_lexer": "ipython3",
   "version": "3.9.7"
  }
 },
 "nbformat": 4,
 "nbformat_minor": 4
}
