{
 "cells": [
  {
   "cell_type": "markdown",
   "metadata": {},
   "source": [
    "# Problem Set 6: Due Friday Oct 8, 2021"
   ]
  },
  {
   "cell_type": "markdown",
   "metadata": {},
   "source": [
    "## Question 1: Constructing hadrons states using SU(3) raising and lowering operators (25 points)"
   ]
  },
  {
   "cell_type": "markdown",
   "metadata": {},
   "source": [
    "### Learning objectives\n",
    "In this question you will:\n",
    "- Learn how to find the SU(3) wave functions for baryons using SU(3) raising and lowering operators"
   ]
  },
  {
   "cell_type": "markdown",
   "metadata": {},
   "source": [
    "If we know the SU(3) wave function for one member of an SU(3) multiplet, we can construct the other members of the multiplet using SU(3) raising and lowering operators.  Each multiplet has well defined properties under the interachange of two quarks.  For example, the spin-3/2 baryon decouplet that contains the $\\Delta $ is symmetric under interchange, eg $\\Delta ^{+} = \\frac{1}{\\sqrt{3}} \\left (uud+udu+duu \\right ) $, while the spin-1/2 octet that contains the proton and neutron is  antisymmetric under the interchange of the first two quarks but has no symmetry with respect to the third."
   ]
  },
  {
   "cell_type": "markdown",
   "metadata": {},
   "source": [
    "### 1a."
   ]
  },
  {
   "cell_type": "markdown",
   "metadata": {},
   "source": [
    "For the spin-3/2 decouplet, start with the $\\Omega^{-} = sss$ baryon with strangeness $S=-3$.   Use raising and/or lowering operators to construct the members of the decouplet with $S=-2$, known as the the $\\Xi$, and with $S=-1 $, known as the $\\Sigma^{*}$."
   ]
  },
  {
   "cell_type": "markdown",
   "metadata": {},
   "source": [
    "Write your answer here"
   ]
  },
  {
   "cell_type": "markdown",
   "metadata": {},
   "source": [
    "### 1b."
   ]
  },
  {
   "cell_type": "markdown",
   "metadata": {},
   "source": [
    "Starting from the $\\pi^+$ SU(3) wave function\n",
    "$$\n",
    "\\pi^+ = u \\overline d\n",
    "$$\n",
    "Use SU(3) raising and lowering operators to construct the 4 states $K^+$, $K^-$, $K^0$ and $\\overline K ^0$.  When\n",
    "constructing these states you can start with the relationships given on page 226 of Thomson:\n",
    "$$\n",
    "\\begin{array}{cccccc}\n",
    "\\hat V_+ s = +u & \\hat V_- u = +s & \\hat U_+ s = +d & \\hat U_- d = +s & \\hat I_+ d = +u & \\hat I_- d = +d \\\\\n",
    "\\hat V_+ \\overline u = -\\overline s & \\hat V_- \\overline s = -\\overline u & \\hat U_+ \\overline d = -\\overline s & \n",
    "\\hat U_- \\overline s = -\\overline d & \\hat I_+ \\overline u = -\\overline d & \\hat I_- \\overline d = -\\overline u\n",
    "\\end{array}\n",
    "$$\n",
    "(Note: Thomson uses the operator $\\hat T$ for isospin while here we represent isospin with $\\hat I$)"
   ]
  },
  {
   "cell_type": "markdown",
   "metadata": {},
   "source": [
    "Write your answer here"
   ]
  },
  {
   "cell_type": "markdown",
   "metadata": {},
   "source": [
    "## Question 2: Leptonic decays of vector mesons (25 points)"
   ]
  },
  {
   "cell_type": "markdown",
   "metadata": {},
   "source": [
    "### Learning objectives\n",
    "In this question you will:\n",
    "- Learn how neutral mesons couple to the photon"
   ]
  },
  {
   "cell_type": "markdown",
   "metadata": {},
   "source": [
    "Neutral vector mesons can decay into lepton pairs through\n",
    "$q\\overline{q}$ annihiliation via a virtual photon."
   ]
  },
  {
   "cell_type": "markdown",
   "metadata": {},
   "source": [
    "<img src=\"vmesDecay.png\" alt=\"Drawing\" style=\"width:550px;\"/>"
   ]
  },
  {
   "cell_type": "markdown",
   "metadata": {},
   "source": [
    "This annihilation requires that the wave function of the $q$ and $\\overline q$ overlap ($\\psi(r=0)\\ne 0$), so annihilation is only possible for states with $\\ell=0$.  Because the photon has spin 1 and angular momentum must be conserved at the interaction vertices, the sum of the quark spins must have spin 1 (since $\\ell=0$).  The lowest lying octet vector meson states have exactly this quark configuration\n",
    "\n",
    "In general, these decays have small branching ratios, since they are occur via the electromagnetic rather than the strong interaction.  We can calculate the partial width for electromagnetic decays of vector mesons in terms of the quark content of the mesons and the $q\\overline{q}$ wave function overlap $|\\psi(0)|^2$.  The result is:\n",
    "$$                                                                                 \n",
    "\\Gamma(V\\rightarrow \\ell^+ \\ell^- ) \\propto  \\frac{\\alpha^2 Q^2}{M_V^2} \n",
    "\\left | \\psi(0) \\right |^2                                                         \n",
    "$$\n",
    "where $\\alpha$ is the fine structure constant, $M_V$ is the mass of the meson and $\\psi(0) $ is the wave function  at the origin. The $Q^2$ abover represents the value of $\\left |qe^2\\right |^2$ and is discussed below.\n",
    "\n",
    "Because annihilation into a photon can only occur if the quark and anti-quark in the meson are of the same flavor ($u\\overline u $, $d\\overline d $ or $s\\overline s $ ) we can write the relevant meson wave function $\\left | \\psi \\right > $ in terms of the quarks as:\n",
    "$$ \n",
    "\\left | \\psi \\right >  = \\sum_i a_i \\left | q_i \\overline q_i\\right >                                \n",
    "$$\n",
    "With this definition, and noting that our initial $q\\overline q$ is annihilating into a photon $ \\left < \\gamma \\right |$, expectation value of $Q^2$ can be written:\n",
    "\\begin{eqnarray*}\n",
    "  Q^2 & = & \\left | \\left  < \\gamma \\left | {\\cal Q} \\right | \\psi \\right > \\right |^2  \\\\\n",
    "  & = & \\left | \\sum_i a_i  \\left < \\gamma \\left | {\\cal Q} \\right |\n",
    "   q_i \\overline q_i\\right > \\right |^2\n",
    "  \\end{eqnarray*}\n",
    "is the squared sum of the charges of the quarks in the meson (weighted by $a_i$, the appropriate SU(3) Clebsch-Gordon Coefficients),\n",
    "The charge operator ${\\cal Q}$ has the following effect on quark-antiquark pairs:\n",
    "\\begin{eqnarray*}\n",
    "\\left < \\gamma \\right |\\cal Q \\left | u\\overline u \\right > & = & \\frac{2}{3} \\\\\n",
    "\\left < \\gamma \\right |\\cal Q \\left | d\\overline d \\right > & = & -\\frac{1}{3} \\\\\n",
    "\\left < \\gamma \\right |\\cal Q \\left | s\\overline s \\right > & = & - \\frac{1}{3} \\\\\n",
    "\\end{eqnarray*}\n",
    "(we won't explain here why the operator takes its sign from the quark and not the antiquark)\n",
    "\n",
    "Using the quark model assignments for the vector mesons\n",
    "\n",
    "\\begin{eqnarray*}\n",
    "\\rho^{0} & = & \\frac{1}{\\sqrt{2}} \\left ( u\\overline u - d\\overline d \\right )\\\\\n",
    "\\omega^{0} & = & \\frac{1}{\\sqrt{2}} \\left (u\\overline u + d\\overline d \\right )\\\\\n",
    "\\phi^{0} & = & s\\overline s \n",
    "\\end{eqnarray*}\n",
    "\n",
    "calculate the ratios of the leptonic decay widths for these 3 mesons.\n",
    "For problem, use SU(3) symmetry to make the\n",
    "approximation that $\\psi(0)$ is the same for all 3 states.\n",
    "Use the Particle Data Book to compare your result to the measured values of these ratios."
   ]
  },
  {
   "cell_type": "markdown",
   "metadata": {},
   "source": [
    "## Question 3: Hyperfine splitting in the meson multiplets (20 points)"
   ]
  },
  {
   "cell_type": "markdown",
   "metadata": {},
   "source": [
    "### Learning objectives\n",
    "In this question you will:\n",
    "- Use concepts first learned in the context of the hydrogen atom to understand mass splittings between vector and pseudoscalar mesons"
   ]
  },
  {
   "cell_type": "markdown",
   "metadata": {},
   "source": [
    "The lowest lying pseudoscalar and vector multiplets are both SU(3) nonets (octet plus singlet) with no orbital angular momentum.  The mass splittings within a multiplet come from the difference in mass between the $u$, $d$ and $s$ quarks and to a smaller extent from electromagnetic corrections due to the differences in quark charges.  Mass splitting  between the pseudoscalar and vector multiplets is due to QCD hyperfine splitting.  The origin of this term is the same as hyperfine splitting in hydrogen:  the interaction between the magnetic moments of the two particles in the bound state.\n",
    "\n",
    "The hyperfine mass splitting for mesons with quark content $q_1 \\overline{q_2}$ has the form:\n",
    "$$ \\Delta M ({\\rm meson}) = A \\frac{{\\bf S}_1 \\cdot {\\bf S}_2}{m_1 m_2} |\\psi(0)|^2$$\n",
    "where $A$ is a constant, ${\\bf S}_i$ is the spin of quark $i$, $m_i$ is the mass of quark $i$ and $|\\psi(0)|$ is the wave function at the origin.  We cannot calculate $\\psi(0)$ from first principles but we can use experimental measurements to determine the combination\n",
    "$A \\left | \\psi(0)\\right |^2$.\n",
    "For this problem, use $m_u=m_d=336$ MeV and $m_s=509$ MeV."
   ]
  },
  {
   "cell_type": "markdown",
   "metadata": {},
   "source": [
    "### 3a."
   ]
  },
  {
   "cell_type": "markdown",
   "metadata": {},
   "source": [
    "By comparing the masses of the $K^0$ and $K^{0 *}$ mesons, estimate the\n",
    "value of $A |\\psi(0)|^2$."
   ]
  },
  {
   "cell_type": "markdown",
   "metadata": {},
   "source": [
    "### 3b."
   ]
  },
  {
   "cell_type": "markdown",
   "metadata": {},
   "source": [
    "Use this value of $A|\\psi(0)|^2$ and the difference between the up and strange quark masses  to predict the splitting between the $\\eta $ and $\\omega $.  Note:  you may assume that the $\\eta $ is a pure SU(3) octet state:\n",
    "$$\n",
    "\\eta = \\frac{1}{\\sqrt{6}} \\left (u\\overline u + d\\overline d + 2 s\\overline s \\right )\n",
    "$$                                                                                 \n",
    "In the case of the $\\omega$, use the wave function given in problem 2."
   ]
  },
  {
   "cell_type": "markdown",
   "metadata": {},
   "source": [
    "## Question 4: Rutherford Scattering (30 points)"
   ]
  },
  {
   "cell_type": "markdown",
   "metadata": {},
   "source": [
    "### Learning objectives\n",
    "In this question you will:\n",
    "\n",
    "- -Review the relationship between impact parameter and scattering angle for non-relativistic Rutherford Scattering in Classical Mechanics - Use the Ruthering Scattering formulae to calculate the cross section into a defined solid angle\n"
   ]
  },
  {
   "cell_type": "markdown",
   "metadata": {},
   "source": [
    "### 4a. "
   ]
  },
  {
   "cell_type": "markdown",
   "metadata": {
    "flags": [
     "problems",
     "solutions"
    ]
   },
   "source": [
    "This problem describes scattering in the non-relativistic limit using Classical Mechanics.  Although most of our problems in particle physics need  Relativistic Quantum Mechanics, starting with a classical problem provides us with much needed intuition.\n",
    "\n",
    "Consider a beam of particles of charge $e$ moving in the $+z$-direction.   Each particle has kinetic energy $E$.  The beam is incident on a target consisting of a single nucleus of charge $Ze$.  As shown on slide 6 of the pdf file for lecture 11, the angle of deflection $\\theta$ that the particle undergoes is related to its impact parameter $b$ by the expression:\n",
    "$$\n",
    "b = \\frac{Ze^2}{8\\pi\\epsilon_0 E} \\cot \\frac{\\theta}{2}\n",
    "$$\n",
    "A real Rutherford scattering experiment would have a finite sized target.  To keep things simple, for this problem we will focus on a single nucleus.  That menas the beam size and intensities given below have been adjusted to match this artificial situation."
   ]
  },
  {
   "cell_type": "markdown",
   "metadata": {
    "flags": [
     "problems",
     "solutions"
    ]
   },
   "source": [
    "Assume that the beam is centered on the target and has a circular cross sectional area with radius $R$.  The beam particles are uniformly distributed within the beam.  Take the beam current to be $10^{-12}$ Amps.  We will use a gold target ($Z=79$),  and a beam with $E=6$ MeV.  We'll use an unrealistically small beam size, comparable to the size of a gold atom: $R=10^{-12}$ m. Assume that the beam is turned on for 1 second.  \n",
    "\n",
    "Calculate how many particles are incident on the target and  make a histogram with this number of entries that shows the distribution of the scattering angle $\\theta$ (in radians). Display the histogram with a logrithmic $y$-axis.\n",
    "\n",
    "When solving this problem you are free to use the code below, but are not required to do so.  The following function returns an array of $N\\;\\;\\left [ x,y \\right ]$-positions of the particles within the beam.  (The impact parameter is $b=\\sqrt{x^2+y^2} $.)"
   ]
  },
  {
   "cell_type": "code",
   "execution_count": 5,
   "metadata": {
    "flags": [
     "problems",
     "solutions"
    ]
   },
   "outputs": [],
   "source": [
    "import numpy as np\n",
    "import random\n",
    "import math\n",
    "import matplotlib.pyplot as plt\n",
    "\n",
    "def makeData(N,R,seed):\n",
    "    np.random.seed(seed)\n",
    "    xout = []\n",
    "    yout = []\n",
    "    numToGen=int(1.1*(math.pi)*N)\n",
    "    i = 0\n",
    "    xin = np.random.uniform(-1.0,1.0,numToGen)    \n",
    "    yin = np.random.uniform(-1.0,1.0,numToGen)\n",
    "    rsq = xin*xin+yin*yin\n",
    "    while len(xout)<N  and i<numToGen:\n",
    "        if rsq[i] < 1:\n",
    "            xout.append(R*xin[i])\n",
    "            yout.append(R*yin[i])\n",
    "        i += 1\n",
    "    return xout,yout"
   ]
  },
  {
   "cell_type": "markdown",
   "metadata": {
    "flags": [
     "problems",
     "solutions"
    ]
   },
   "source": [
    "You may use following definitions of physical constants and the parameters:"
   ]
  },
  {
   "cell_type": "code",
   "execution_count": 6,
   "metadata": {
    "flags": [
     "problems",
     "solutions"
    ]
   },
   "outputs": [],
   "source": [
    "# Constants\n",
    "# atomic number for gold\n",
    "Z = 79\n",
    "\n",
    "# Charge of the electron in Coulombs \n",
    "e = 1.602e-19\n",
    "\n",
    "#Kinetic energy of a beam particle in eV\n",
    "EineV = 6.0e6\n",
    "\n",
    "# Translation of the kinetic  energy to Joules\n",
    "E = EineV*e\n",
    "\n",
    "# E&M epsilon_0\n",
    "epsilon0 = 8.854e-12"
   ]
  },
  {
   "cell_type": "code",
   "execution_count": null,
   "metadata": {},
   "outputs": [],
   "source": [
    "#Write your answer here"
   ]
  },
  {
   "cell_type": "markdown",
   "metadata": {},
   "source": [
    "### 4b. "
   ]
  },
  {
   "cell_type": "markdown",
   "metadata": {
    "flags": [
     "problems",
     "solutions"
    ]
   },
   "source": [
    "A detector that subtends a solid angle $\\Delta \\theta = \\frac{\\pi}{8}$ and $\\Delta \\phi = \\frac{\\pi}{2}$ centered at $\\theta = \\frac{\\pi}{4}$ and $\\phi=\\pi$.   How many particles hit the detector? Note:  you are expected to answer this question using  your code from part (a);  you are not expected to do an analytic calculation."
   ]
  },
  {
   "cell_type": "code",
   "execution_count": null,
   "metadata": {},
   "outputs": [],
   "source": [
    "#Write your answer here"
   ]
  },
  {
   "cell_type": "markdown",
   "metadata": {},
   "source": [
    "### 4c. "
   ]
  },
  {
   "cell_type": "markdown",
   "metadata": {
    "flags": [
     "problems",
     "solutions"
    ]
   },
   "source": [
    "Using the expression for cross section, find the cross section\n",
    "$$\n",
    "  \\sigma = \\int \\frac{d\\sigma}{d\\Omega} d\\Omega \n",
    "$$\n",
    "where the integral corresponds to the solid angle of the detector."
   ]
  },
  {
   "cell_type": "code",
   "execution_count": null,
   "metadata": {},
   "outputs": [],
   "source": [
    "#Write your answer here"
   ]
  }
 ],
 "metadata": {
  "kernelspec": {
   "display_name": "Python 3 (ipykernel)",
   "language": "python",
   "name": "python3"
  },
  "language_info": {
   "codemirror_mode": {
    "name": "ipython",
    "version": 3
   },
   "file_extension": ".py",
   "mimetype": "text/x-python",
   "name": "python",
   "nbconvert_exporter": "python",
   "pygments_lexer": "ipython3",
   "version": "3.9.7"
  }
 },
 "nbformat": 4,
 "nbformat_minor": 4
}
