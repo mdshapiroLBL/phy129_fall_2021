{
 "cells": [
  {
   "cell_type": "markdown",
   "metadata": {},
   "source": [
    "# Problem Set 8: Due Friday Oct 22"
   ]
  },
  {
   "cell_type": "markdown",
   "metadata": {},
   "source": [
    "## Question 1: Drawing Feynman Diagrams (40 points)"
   ]
  },
  {
   "cell_type": "markdown",
   "metadata": {},
   "source": [
    "### Learning objectives\n",
    "In this question you will:\n",
    "\n",
    "- Review the rules for drawing Feynman diagrams for QED processes\n",
    "- Apply these rules to several processes of interest"
   ]
  },
  {
   "cell_type": "markdown",
   "metadata": {},
   "source": [
    "The goal of this problem is to make you more comfortable with the language of Feynman diagrams.  Although we won'd calculate the matrix elements explictly, we can learn a lot about the cross section by examing these diagrams.  In each case below, draw the relevant Feynman diagrams.  Label each incoming and outgoing leg with the particle species and momentum (call incoming particle momenta $p_1$ and $p_2$ and outgoing particle momenta $p_3$ and $p_4$. Using the rules shown on page 124 of Thomson or on page 17 of the notes for Lecture 15, mark each external line, internal propagator and vertex with the appropriate factor.  make sure your external lines have arrows indicating  whether the line represents a particle or an antiparticle. Thomson Figure 5.7 is an example of what your drawings should look like."
   ]
  },
  {
   "cell_type": "markdown",
   "metadata": {},
   "source": [
    "### 1a."
   ]
  },
  {
   "cell_type": "markdown",
   "metadata": {},
   "source": [
    "Draw the lowest order diagram for the elastic scattering process $e^+\\mu^+\\rightarrow e^+\\mu^+$"
   ]
  },
  {
   "cell_type": "markdown",
   "metadata": {},
   "source": [
    "Write your answer here"
   ]
  },
  {
   "cell_type": "markdown",
   "metadata": {},
   "source": [
    "### 1b. "
   ]
  },
  {
   "cell_type": "markdown",
   "metadata": {},
   "source": [
    "Draw the two lowest order diagrams for the Compton scattering process $\\gamma e^- \\rightarrow \\gamma e^-$ (Hint:  both $t$-channel and $s$-channel propagators are possible)"
   ]
  },
  {
   "cell_type": "markdown",
   "metadata": {},
   "source": [
    "Write your answer here"
   ]
  },
  {
   "cell_type": "markdown",
   "metadata": {},
   "source": [
    "### 1c."
   ]
  },
  {
   "cell_type": "markdown",
   "metadata": {},
   "source": [
    "Draw the two lowest order diagrams for the process $e^+e^- \\rightarrow \\gamma \\gamma$ (Hint: both $t$-channel and $u$-channel diagrams are possible)"
   ]
  },
  {
   "cell_type": "markdown",
   "metadata": {},
   "source": [
    "Write your answer here"
   ]
  },
  {
   "cell_type": "markdown",
   "metadata": {},
   "source": [
    "### 1d."
   ]
  },
  {
   "cell_type": "markdown",
   "metadata": {},
   "source": [
    "Draw the lowest order diagram for the process $e^+e^-\\rightarrow u\\overline u$ where $u$ is an up quark. (We'll see at the end of the month that the quarks must turn into hadrons before we observe them in our detector.  Never the less, quarks are Dirac particles so this is a perfectly reasonable process to calculate)"
   ]
  },
  {
   "cell_type": "markdown",
   "metadata": {},
   "source": [
    "Write your answer here"
   ]
  },
  {
   "cell_type": "markdown",
   "metadata": {},
   "source": [
    "## Question 2: Invariant Form for Cross Sections (20 points) "
   ]
  },
  {
   "cell_type": "markdown",
   "metadata": {},
   "source": [
    "### Learning objectives\n",
    "In this question you will:\n",
    "\n",
    "- Learn the predicted cross section for  $e^+e^-$ annihilation to leptons  \n",
    "- Re-express the matrix element squared in a Lorentz invariant form"
   ]
  },
  {
   "cell_type": "markdown",
   "metadata": {},
   "source": [
    "In class we discussed the Feynman diagram for the process $$ e^+e^-\\rightarrow \\mu^+\\mu^-$$\n",
    "In the center of mass frame the cross section for unpolarized scattering the cross section is:\n",
    "   $$                                                                         \n",
    "   \\frac{d\\sigma}{d\\Omega} = \\frac{\\alpha^2}{4s} \\left (1+\\cos^2\\theta \\right )                                                                        \n",
    "   $$\n",
    "\n",
    "where $\\alpha = e^2/4\\pi $ is the fine structure constant ($\\frac{1}{137}$) and $\\theta$ is the angle the outgoing $\\mu^-$ makes with the beamline.\n",
    "\n",
    "\n",
    "This expression comes from multiplying the matrix element squared by a LIPS factor.  From Thomson equation 3.50 we know that for the process $a+b\\rightarrow c+d$ in the center-of-mass frame:\n",
    "$$\n",
    "\\frac{d\\sigma}{d\\Omega} = \\frac{1}{64\\pi^2 s} \\frac{p_f^*}{p_i^*} \\left | {\\cal M}\\right |^2\n",
    "$$\n",
    "where $s$ is the Mandelstam variable, and $p_f^*$ ($p_i^*$) is the magnitude of momenta of one of the the final (initial) state particles. \n",
    "\n",
    "The matrix element squared is:\n",
    "\n",
    "   $$                                                                         \n",
    "   \\left < \\left | {\\cal M}\\right |^2\\right > = e^4 \\left (1+\\cos^2\\theta \\right )                                                                     \n",
    "   $$\n",
    "   \n",
    "where the $< >$ is short hand for averaging over initial spin states and summing over final spin states.  Since the phase space is  Lorentz invariant, $\\left < \\left | {\\cal M}\\right |^2\\right >$ must also be Lorentz invariant to ensure that our final answer is invariant.\n",
    "\n",
    "Show that we can rewrite the expression above in Lorentz invariant form\n",
    "$$                                                                     \n",
    "\\left < \\left | {\\cal M}\\right |^2\\right > = 2e^4 \\left ( \\frac{t^2+u^2}{s^2}\\right )                                                               \n",
    "$$\n",
    "\n",
    "where $s$, $t$ amd $u$ are the Mandelstam variables. Assume tha the masses of all  particles can be neglected.\n",
    "Hint:  Write the expressions for s, t and u in terms of the center-of-mass energies and momenta of the $e^+$ and $e^-$ and then evaluate the expression.\n"
   ]
  },
  {
   "cell_type": "markdown",
   "metadata": {},
   "source": [
    "## Question 3: Angular Distributions in e+e- --> mu+mu- (40 points)"
   ]
  },
  {
   "cell_type": "markdown",
   "metadata": {},
   "source": [
    "### Learning objectives\n",
    "In this question you will:\n",
    "\n",
    "- Study the angular distribution of muons produced in e+e- annihilation\n",
    "- Demonstrate using data collected by the Babar experiment that the two muons are produced back-to-back in both theta and phi\n",
    "- Assess quantitatively the accuracy of the calculation of the angular distribution by performing a chisquare calculation\n"
   ]
  },
  {
   "cell_type": "markdown",
   "metadata": {},
   "source": [
    "In this problem, we will continue to explore the process $e^+e^-\\rightarrow \\mu^+ \\mu^-$"
   ]
  },
  {
   "cell_type": "markdown",
   "metadata": {},
   "source": [
    "### 3a."
   ]
  },
  {
   "cell_type": "markdown",
   "metadata": {
    "flags": [
     "problems",
     "solutions"
    ]
   },
   "source": [
    "If the electron beams are unpolarised, the matrix element cannot depend on $\\phi$, since the problem is azymuthally symmetric.   Therefore $d\\sigma/d\\Omega$ depends only on $\\cos\\theta$.   Integrate the cross section quoted in problem 2 over $\\phi$ and then make a plot of the predicted angular distribution $d\\sigma /d\\cos\\theta$."
   ]
  },
  {
   "cell_type": "markdown",
   "metadata": {},
   "source": [
    "Write your answer here"
   ]
  },
  {
   "cell_type": "markdown",
   "metadata": {},
   "source": [
    "### 3b. "
   ]
  },
  {
   "cell_type": "markdown",
   "metadata": {
    "flags": [
     "problems",
     "solutions"
    ]
   },
   "source": [
    "Now integrate over $\\cos\\theta$ to find the total cross section as function of $s$ in units of nb"
   ]
  },
  {
   "cell_type": "markdown",
   "metadata": {},
   "source": [
    "Write your answer here"
   ]
  },
  {
   "cell_type": "markdown",
   "metadata": {},
   "source": [
    "### 3c. "
   ]
  },
  {
   "cell_type": "markdown",
   "metadata": {
    "flags": [
     "problems",
     "solutions"
    ]
   },
   "source": [
    "The file mumu.dat contains data corresponding to an integrated luminosity of 74.674 pb$^{-1}$ collected by the BaBar experiment at the SLAC B-factory.  The file contains events from the process $e^+e^-\\rightarrow \\mu^+\\mu^-(\\gamma)$.  (where ($\\gamma$) means that the event selection may allow a low-energy photon). The photon emission can be treated as a small radiative correction, which does not modify the gross properties of the $e^+e^-\\rightarrow \\mu^+\\mu^-$ process.  The data were collected at a center-of-mass energy of10.539 GeV. Note, that this is below the B B̄ production threshold.\n",
    "\n",
    "The following code reads these data file and puts the data into a form that can be easily used in python. (For people who prefer to use root, a mumu.root file is available in this directory)"
   ]
  },
  {
   "cell_type": "code",
   "execution_count": 1,
   "metadata": {
    "flags": [
     "problems",
     "solutions"
    ]
   },
   "outputs": [],
   "source": [
    "import math\n",
    "import numpy as np\n",
    "import matplotlib.pyplot as plt\n",
    "from scipy.optimize import curve_fit\n",
    "\n",
    "# Parse the input file.\n",
    "file = \"mumu.dat\"\n",
    "\n",
    "# Inforamtion to offset needed to nterpret the info\n",
    "# The order of variables is explained in the metadata at the top of the file\n",
    "# The inital e- direction is the +z direction\n",
    "#\n",
    "#  isBCMuMu -- a boolean bit which provides a tighter (but cleaner) selection of di-muons.  You should require this bit to be 1\n",
    "#  p1Mag -- Magnitude of the momentum of the mu- (in GeV)\n",
    "#  p1CosTheta -- Cosine of thepolar angle of the mu-track  \n",
    "#  p1Phi -- Azimuthal angle of the mu- track\n",
    "#  p1EmcCandEnergy -- Electromagnetic Calorimeter energy associated with the highest-momentum track. For muons, this is expected to be non-zero, but small (<1 GeV)\n",
    "#  p2Mag -- Magnitude of the momentum of the mu+ track (in GeV)\n",
    "#  p2CosTheta -- Cosine of thepolar angle of the mu+ track\n",
    "#  p2Phi -- Azimuthal angle of the mu+ track\n",
    "#  p2EmcCandEnergy -- Electromagnetic Calorimeter energy associated with the second highest-momentum track. For muons, this is expected to be non-zero, but small (<1 GeV)\n",
    "#\n",
    "inMeta = False\n",
    "isBCMuMu = []\n",
    "p1Mag = []\n",
    "p1CosTheta = []\n",
    "p1Phi = []\n",
    "p1EmcCandEnergy = []\n",
    "p2Mag = []\n",
    "p2CosTheta = []\n",
    "p2Phi = []\n",
    "p2EmcCandEnergy = []\n",
    "\n",
    "inMeta = True\n",
    "for line in open(file,\"r\"):\n",
    "    line = line.strip()\n",
    "    info = line.split(\",\")    \n",
    "    if inMeta and (\"<metadata>\" in info[0]):\n",
    "        inMeta = True\n",
    "    elif inMeta and (\"</metadata>\" in info[0]):\n",
    "        inMeta = False\n",
    "    elif not inMeta:\n",
    "        isBCMuMu.append(int(info[0]))\n",
    "        p1Mag.append(float(info[1]))\n",
    "        p1CosTheta.append(float(info[2]))\n",
    "        p1Phi.append(float(info[3]))\n",
    "        p1EmcCandEnergy.append(float(info[4]))\n",
    "        p2Mag.append(float(info[5]))\n",
    "        p2CosTheta.append(float(info[6]))\n",
    "        p2Phi.append(float(info[7]))\n",
    "        p2EmcCandEnergy.append(float(info[8]))\n"
   ]
  },
  {
   "cell_type": "markdown",
   "metadata": {
    "flags": [
     "problems",
     "solutions"
    ]
   },
   "source": [
    "First, let's verify our statement that presence of the photon does not grossly effect the kinematics of these events.  Make a scatter plot comparing the values of $\\cos(\\theta)$ for the two muon candidates in each event.  Make a second scatter plot comparing the values of $\\phi$.  Explain in words what these plots tell you.  Make sure you require that the isBCMuMu bit is set to 1.  In addition, to insure that both muons are in a part of the detector where they are well-measured, require $|\\cos\\theta|< 0.7485$ for each muon."
   ]
  },
  {
   "cell_type": "code",
   "execution_count": 2,
   "metadata": {},
   "outputs": [],
   "source": [
    "#Write your answer here"
   ]
  },
  {
   "cell_type": "markdown",
   "metadata": {},
   "source": [
    "### 3d. "
   ]
  },
  {
   "cell_type": "markdown",
   "metadata": {
    "flags": [
     "problems",
     "solutions"
    ]
   },
   "source": [
    "Because the electromagnetic interaction conserves parity, the angular distribution cannot contain any terms that are odd under parity inversion.  Weak interactions, however, do not conserve parity.  Since the $Z$ boson has the same quantum numbers as the photon, diagrams involving the $Z$ and the photon both contribute to the $e^+e^-\\rightarrow \\mu^+\\mu^-$ cross section.  The interference between these two diagrams introduces a term that violates parity.  Plot the angular distribution for the $\\mu^+$ and for the $\\mu^-$.  Is there evidence of parity violation in these plots?"
   ]
  },
  {
   "cell_type": "code",
   "execution_count": 3,
   "metadata": {
    "flags": [
     "problems",
     "solutions"
    ]
   },
   "outputs": [],
   "source": [
    "## write your answer here"
   ]
  },
  {
   "cell_type": "markdown",
   "metadata": {
    "flags": [
     "problems",
     "solutions"
    ]
   },
   "source": [
    "Physicists often characterize such parity violating effects in terms of a \"forward-backward asymmetry\":\n",
    "$$\n",
    "A_{FB} = \\left (\n",
    "\\frac{N^{\\mu-}_{\\cos\\theta >0} - N^{\\mu-}_{\\cos\\theta <0}}{N^{\\mu-}_{\\cos\\theta >0} + N^{\\mu-}_{\\cos\\theta <0}}\n",
    "\\right )\n",
    "$$\n",
    "calculate $A_{FB}$ and its uncertainty for the BaBar data (note:  Because the data falls into one of two possible categories, the uncertainty follows a binomial distribution)"
   ]
  },
  {
   "cell_type": "markdown",
   "metadata": {
    "flags": [
     "problems",
     "solutions"
    ]
   },
   "source": [
    "Fit the $\\mu^- \\; \\cos\\theta $ distribution to the form\n",
    "$$\n",
    "N = N_0 \\left (1+A\\cos\\theta+B\\cos^2\\theta \\right )\n",
    "$$\n",
    "Note:  to avoid \"edge effects\" due to particles exiting the end of the detector, limit your fit to the range $|\\cos\\theta|<0.7$.  How large is $A$ relative to $B$?"
   ]
  },
  {
   "cell_type": "code",
   "execution_count": 4,
   "metadata": {},
   "outputs": [],
   "source": [
    "#Write your answer here"
   ]
  },
  {
   "cell_type": "markdown",
   "metadata": {},
   "source": [
    "### 3e. "
   ]
  },
  {
   "cell_type": "markdown",
   "metadata": {
    "flags": [
     "problems",
     "solutions"
    ]
   },
   "source": [
    "We can remove this parity violating term by taking the average of the angular distributions for the $\\mu^+$ and the $\\mu^-$:\n",
    "$$\n",
    "\\frac{d<N>}{d\\cos \\theta} = 0.5 \\left ( \\frac{dN^{\\mu+}}{d\\cos\\theta} + \\frac{dN^{\\mu-}}{\\cos\\theta} \\right )\n",
    "$$\n",
    "where $N^\\pm$ are the number of $\\mu^+$ and $\\mu^-$ respectively.  Make a histogram of this distribution and fit the angular distribution to the form \n",
    "$$\n",
    "N = N_0 \\left  ( 1+B \\cos^2 \\theta\\right )\n",
    "$$\n",
    "Once again, limit your fit to $|\\cos \\theta|<0.7$"
   ]
  },
  {
   "cell_type": "markdown",
   "metadata": {
    "flags": [
     "problems",
     "solutions"
    ]
   },
   "source": [
    "Calculate the $\\chi^2$ between your histogram and your prediction.  Turn the resulting $\\chi^2$ into a fit probability."
   ]
  },
  {
   "cell_type": "code",
   "execution_count": null,
   "metadata": {},
   "outputs": [],
   "source": [
    "#Write your answer here"
   ]
  }
 ],
 "metadata": {
  "kernelspec": {
   "display_name": "Python 3 (ipykernel)",
   "language": "python",
   "name": "python3"
  },
  "language_info": {
   "codemirror_mode": {
    "name": "ipython",
    "version": 3
   },
   "file_extension": ".py",
   "mimetype": "text/x-python",
   "name": "python",
   "nbconvert_exporter": "python",
   "pygments_lexer": "ipython3",
   "version": "3.9.7"
  }
 },
 "nbformat": 4,
 "nbformat_minor": 4
}
