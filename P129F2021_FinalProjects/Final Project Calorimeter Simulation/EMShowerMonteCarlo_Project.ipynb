{
 "cells": [
  {
   "cell_type": "markdown",
   "metadata": {},
   "source": [
    "# Physics 129 Final Project #1"
   ]
  },
  {
   "cell_type": "markdown",
   "metadata": {},
   "source": [
    "## Describing  Calorimeter Response using a Monte Carlo Model of Electromagnetic Showers"
   ]
  },
  {
   "cell_type": "markdown",
   "metadata": {},
   "source": [
    "### Learning objectives\n",
    "In this question you will:\n",
    "\n",
    "- Learn to create a simplifed Monte Carlo model of electromagnetic showers\n",
    "- Study how the performance of a calorimeter depends on its design parameters"
   ]
  },
  {
   "cell_type": "markdown",
   "metadata": {},
   "source": [
    "## Introduction"
   ]
  },
  {
   "cell_type": "markdown",
   "metadata": {},
   "source": [
    "In order to understand how their detectors respond, particle physicists use complex simulations.  These simulations take as their input Monte Carlo generated events, propagate the particles in these events through a model of the detector and simulate the response.  The output of the simulation is written in the same format as the real data and is used to understand the experiment's acceptance and resolution. Proper modeling of the detector response requires detailed understanding of the physics of particle interactions with matter.  Today, most experiments use a simulation toolkit, called Geant4, to model this physics. In this problem, you will write your own Monte Carlo simulation of electromagnetic showers and use it to describe shower development in the CMS electromagnetic calorimeter (ECAL).  A description of the CMS ECAL can be found at:\n",
    "\n",
    "http://cms.web.cern.ch/news/electromagnetic-calorimeter\n",
    "                                                                                                                                                                                                                                      "
   ]
  },
  {
   "cell_type": "markdown",
   "metadata": {},
   "source": [
    "The goal of this project is to simulate (with simplifying assumptions) the performance of the CMS electromagnetic calorimeter and predict its resolution and linearity.  Because you will have to simplify the physical problem, your results will not agree completely with those of CMS, but the general features such as the functional form of the dependence on energy should be correct.\n",
    "\n",
    "Warning:  This project requires more knowledge of python than some of the others.  Feel free to contact Kanny or Professor Shapiro with any technicial questions"
   ]
  },
  {
   "cell_type": "markdown",
   "metadata": {},
   "source": [
    "### Part 1. Monte Carlo Simulation of the Charged Particle Distribution"
   ]
  },
  {
   "cell_type": "markdown",
   "metadata": {},
   "source": [
    "Your task is to write a Monte Carlo simulation that predicts the longitudinal development of an electromagnetic shower in the CMS ECAL.  The final answer should be a plot that looks roughly like the black circles in *Figure 33.20 of the PDG Review Booklet, Passage of Particles through Matter*, but where the horizontal axis is the distance in cm from the front face of the calorimeter and the vertical axis is the average number of charged particles crossing a plane at that distance. First make this plot for E=1 GeV electrons. To start, you may simply plot the number of charged particles versus length, in either cm or radiation lengths. In order to keep the statistical uncertainties small, generate 1000 events.\n",
    "\n",
    "You will need to make a number of simplifying assumptions in your model:\n",
    "\n",
    "- Describe the calorimeter as a uniform  crystal of lead tungstate, 25 cm deep.  Assume electrons hit the front face of the crystal with fixed energy $E$ and normal to the surface.\n",
    "- Real EM showers develop in 3-dimensions, for this problem use a 1-dimensional model and ignore the transverse spreading of the shower.\n",
    "- Electrons lose energy by bremsstrahlung.  The mean distance over which a high energy electron loses all but $1/e$ of its energy is called the radiation length $X_0$. The bremsstrahlung spectrum of the emitted photons is peaked at low photon energy. While the true bremsstrahlung process is continuous, for this problem make the *unrealistic* approximation that the energy loss is a discrete process that occurs at random positions $x$ along the electron trajectory. In other words, the probability of a discrete bremmstahlung occuring in distance $dx$ is assumed to be\n",
    "$$                                                                                                                                                \n",
    "dP \\equiv \\frac{dN}{N} = - \\frac{dx}{X_0}                                                                                                         \n",
    "$$\n",
    "To simplify the calculation, also make the _unrealistic_ assumption that whenever the bremsstahlung occurs the energy is divided equally between the the outgoing electron and photon.\n",
    "- When charged particles travel through matter, they lose energy via ionization. The distribution of energy loss per unit distance is a Landau distribution, with a mean that depends on the particle's velocity. Assume for this problem that the ionization energy loss per cm is constant, with the value for lead tungstate taken from the PDG *Atomic and nuclear properties of materials*. If a charged particle ($e^+$ or $e^-$) loses enough energy via ionization to stop in the crystal, then it will just be absorbed in the material. (In the real world, charged particles have a Bragg peak in their energy loss as they stop. We will ignore that effect here).\n",
    "-  Photons lose energy via Compton scattering, photo-nuclear interactions and pair production.  Assume for this problem that pair production is the only process that matters and that the probability of pair production occuring between $x$  and $x+dx$ is $$dP = \\frac{dx}{9/7 X_0}$$ Also *unrealistically* assume that the $e^+$ and $e^-$ produced always share the energy of the photon equally.  Make the approximation that  the electron is massless.\n",
    "\n",
    "**NOTE: It will be helpful for you to write your code so that you can quickly change parameters including the ratiation length, the number of events in the simulation, and the energy of the incident particle. Be sure to use many helper functions along the way.**"
   ]
  },
  {
   "cell_type": "code",
   "execution_count": 13,
   "metadata": {},
   "outputs": [],
   "source": [
    "#Your code goes here\n"
   ]
  },
  {
   "cell_type": "markdown",
   "metadata": {},
   "source": [
    "Now, to ensure that your simulation is behaving as expected, modify your Monte Carlo to return the average charged particle density *and* the photon density as a function of distance. Plot these two curves on top of each other. Do they agree with Figure 33.20 from the PDG booklet?"
   ]
  },
  {
   "cell_type": "code",
   "execution_count": 14,
   "metadata": {},
   "outputs": [],
   "source": [
    "# Put your code here"
   ]
  },
  {
   "cell_type": "markdown",
   "metadata": {},
   "source": [
    "## Part 2. Linearity of the Detector \n",
    "Now that you have a working Monte Carlo, we want to know what the energy resolution of the detector is. Recall that when a particle of fixed energy $E_0$ strikes the calorimeter, we are not guaranteed to measure $E_0$. Instead, there are many different energy values we may measure. The probability of the measured value will be a normal distribution in energy centered at $E_0$. The standard deviation of this normal distribution defines the energy resolution of the detector. When physicists build a detector, they often calibrate its response by putting into a \"test beam\" where particles of known energy are shot into the detector and the response is measured. Let's calibrate our calorimeter using this technique.  Modify your Monte Carlo algorithm to keep track of the total energy deposited in the crystal from each of the thousand 1-GeV events. The total energy in the crystal is the integral of charged the particle density along the entire crystal length. We will ignore the photons for the remainder of the project."
   ]
  },
  {
   "cell_type": "code",
   "execution_count": 15,
   "metadata": {},
   "outputs": [],
   "source": [
    "# make any necessary modifications to your code as needed to answer the questions below"
   ]
  },
  {
   "cell_type": "markdown",
   "metadata": {},
   "source": [
    "Now run your Monte Carlo with $E_0 = 1, 3, 5,$ and $10$ GeV. Plot the averaged charged particle densities for each energy, like the plot you made in Part 1, overlaid on the same plot. Include different colors and a legend that indicates which curves are associated with which energies. Note that this will take a while, since the higher energy simulations will involve more shower particles, making the computation more intensive."
   ]
  },
  {
   "cell_type": "code",
   "execution_count": 16,
   "metadata": {
    "scrolled": true
   },
   "outputs": [],
   "source": [
    "# add code here as needed"
   ]
  },
  {
   "cell_type": "markdown",
   "metadata": {},
   "source": [
    "Plot the relationship between the energy deposition in the crystal and the incident energy as you vary the energy. Include error bars using the resolution you calcuated earlier. Is this relationsip linear?"
   ]
  },
  {
   "cell_type": "code",
   "execution_count": 17,
   "metadata": {},
   "outputs": [],
   "source": [
    "# add code here as needed"
   ]
  },
  {
   "cell_type": "markdown",
   "metadata": {},
   "source": [
    "How does the resolution of the calorimeter scale with energy?  Is this functional form consistent with what CMS reports?"
   ]
  },
  {
   "cell_type": "markdown",
   "metadata": {},
   "source": [
    "Type your answer here."
   ]
  },
  {
   "cell_type": "markdown",
   "metadata": {},
   "source": [
    "## Part 3. Fitting the Energy Deposition Function\n",
    "At this point, you have created a simulation that returns the charged particle density in the calorimeter as a function of length, and you can run the simulation at different energies. Since the integral of this function is our proxy for the total energy, we can take the function itself to be approximately equal to $dE/dx$. Refer to equation 33.36 in the PDG Booklet. In case there are differences in the equation numbers depending on the booklet version, the equation is: $$\\frac{dE}{dt} = E_0 b \\frac{(bt)^{a-1}e^{-bt}}{\\Gamma(a)} $$\n",
    "where $t$ is the dimensionless length scale $x/X0$, and $a, b$ are constants to which the data are fit. Since you have been storing the charged particle number, rather than the energy, you will need to normalize everything with respect to the $1 GeV$ simulation, i.e. divide the charged particle density by the total number of charged particles deposited at 1 GeV. This effectively gives you the conversion constant from number of particles to energy in GeV. Using your data from Part 2, what are the values of $a$ and $b$ for this crystal at $E_0 = 1, 3, 5,$ and $10$ GeV? In your write-up, list these in a table. You may compute the uncertainty on these parameters, but you are not required to do so. Note that you may need to `import scipy` to fit your data to this function."
   ]
  },
  {
   "cell_type": "code",
   "execution_count": 18,
   "metadata": {},
   "outputs": [],
   "source": [
    "# put your code here"
   ]
  },
  {
   "cell_type": "markdown",
   "metadata": {},
   "source": [
    "### Extensions\n",
    "\n",
    "Here are some ideas of how you could explore the data further, but you are welcome to take your project in a different direction.\n",
    "\n",
    "- **Linearity and Resolution vs Thickness** How does the performance of the calorimeter change as the length (in radiation lengths) of the calorimeter?   If you decrease the length of the calorimeter, when do you start to see non-linearities in the energy response?\n",
    "- **Mass resolution for $Z$ decays to electrons** The $Z$ boson decays via the decay mode $Z\\rightarrow e^+e^-$ with a branching ratio of 3.36%.  If the $Z$ is produced at rest and the $e^+$ and $e^-$ hit different calorimeter cells, what is the predicted resolution on the $Z$ invariant mass\n",
    "- **Making the model more realistic**  Pick one of the simpifying assumptions in our model of EM showers and see how your prediction changes if you loosen that assumption. "
   ]
  },
  {
   "cell_type": "code",
   "execution_count": null,
   "metadata": {},
   "outputs": [],
   "source": []
  }
 ],
 "metadata": {
  "kernelspec": {
   "display_name": "Python 3 (ipykernel)",
   "language": "python",
   "name": "python3"
  },
  "language_info": {
   "codemirror_mode": {
    "name": "ipython",
    "version": 3
   },
   "file_extension": ".py",
   "mimetype": "text/x-python",
   "name": "python",
   "nbconvert_exporter": "python",
   "pygments_lexer": "ipython3",
   "version": "3.9.7"
  }
 },
 "nbformat": 4,
 "nbformat_minor": 4
}
