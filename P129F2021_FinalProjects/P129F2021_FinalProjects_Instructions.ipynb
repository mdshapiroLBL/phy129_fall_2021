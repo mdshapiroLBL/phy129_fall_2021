{
 "cells": [
  {
   "cell_type": "markdown",
   "id": "0",
   "metadata": {},
   "source": [
    "#  Physics 129 Final Project\n",
    "\n",
    "## Fall 2021"
   ]
  },
  {
   "cell_type": "markdown",
   "id": "2",
   "metadata": {},
   "source": [
    "### Learning objectives\n",
    "\n",
    "- Work with real or simulated particle physics data from various sources, including datasets from real experiments and material property values from the PDG.\n",
    "- Apply the computational knowledge you have gained throughout the course to analyze data.\n",
    "- Apply the theoretical knowledge you have gained throughout the course to draw conclusions from your analysis\n",
    "results.\n",
    "- Report your results in a technical report with formatting and citations that adhere to standards in the field of\n",
    "particle physics.\n"
   ]
  },
  {
   "cell_type": "markdown",
   "id": "3",
   "metadata": {},
   "source": [
    "### Overview"
   ]
  },
  {
   "cell_type": "markdown",
   "id": "4",
   "metadata": {
    "flags": [
     "problems",
     "solutions"
    ]
   },
   "source": [
    "In lieu of a final exam this semester, you will be completing a final project. This project is designed to reinforce\n",
    "concepts you have learned throughout the course while also requiring you to employ the computational skills you\n",
    "have developed while completing the homework assignments. The project will involve two pieces: a computational\n",
    "component that expands upon the work you have done in the python notebooks this semester and a technical report\n",
    "that summarizes your findings. There are four available projects from which you are free to choose, though you are\n",
    "also free to email both the Professor and the GSI and propose your own project, subject to approval from both of\n",
    "us. The four available projects are:\n",
    "\n",
    "1. Describing  Calorimeter Response using a Monte Carlo Model of Electromagnetic Showers\n",
    "2. Measuring Parity Violation in Electron Scattering\n",
    "3. Measuring Properties of the Z boson using CMS data\n",
    "4. Measuring Matter Antimatter Asymmetries at the Large Hadron Collider\n",
    "\n",
    "Feel free to look through the notebooks of each of the projects before you decide which one you want to do. Please\n",
    "note that Project 1 requires some computational techniques that may be unfamiliar to you, but we are happy to\n",
    "teach you these techniques. It is a fun project that is different in spirit from the other three.\n"
   ]
  },
  {
   "cell_type": "markdown",
   "id": "5",
   "metadata": {},
   "source": [
    "### Instructions"
   ]
  },
  {
   "cell_type": "markdown",
   "id": "6",
   "metadata": {},
   "source": [
    "The final projects are available as Jupyter notebooks just as the homework assignments have been throughout the\n",
    "course. You are only required to complete one of these four projects. First, complete your analysis in Python or\n",
    "whatever language you choose and acquire all of your results. Be sure to answer every question in the notebook,\n",
    "and save your work and your figures often. Once you complete your analysis, write up your results in the form of a\n",
    "technical paper much like you would see in physics journals such as the Physical Review Letters (PRL) or Nuclear\n",
    "Instruments and Methods in Physics (NIM). Please use LaTeX to write your report. A template for a sample\n",
    "PRL write-up can be found at https://www.overleaf.com/latex/templates/revtex-4-dot-2-template-and-sample/yydsrzvrqrzs  This template is encouraged, but it is not required. If you do not have easy access\n",
    "to LaTeX, please contact the GSI and/or the Professor. Make sure that all plots in your paper have legends, axis\n",
    "labels, titles, and figure numbers, and make sure to cite all of your technical sources properly.  Your paper should include an introduction describing the goals of your work, a brief description of the experiment used to collect the data (or for project 1 of the detector you are simulating), a discussion of the analysis itself and section presenting your conclusions.\n",
    "\n",
    "You may consult with other students, peers, and co-workers for guidance on this project, however all of the work you\n",
    "submit must be your own. This means you may not share code, TEX files (besides templates), or any plots that you\n",
    "include in your paper and the wording of the text must be your own. \n",
    "\n",
    "The project is due on Friday, December 10 at 5 PM PST. Submit a **PDF file of your write-up** to Gradescooe by this deadline. While there are no strict length requirement, a paper of length 3 or 4 pages with a few figures and/or tables is appropriate.  Your grade on this project will be based on this write-up.  You need not submit your Jupyter notebook.\n",
    "\n",
    "If you have any question about the projects or the necessary analysis tools, please contact Professor Shapiro.\n",
    "\n",
    "Good luck!\n"
   ]
  }
 ],
 "metadata": {
  "kernelspec": {
   "display_name": "Python 3 (ipykernel)",
   "language": "python",
   "name": "python3"
  },
  "language_info": {
   "codemirror_mode": {
    "name": "ipython",
    "version": 3
   },
   "file_extension": ".py",
   "mimetype": "text/x-python",
   "name": "python",
   "nbconvert_exporter": "python",
   "pygments_lexer": "ipython3",
   "version": "3.9.7"
  }
 },
 "nbformat": 4,
 "nbformat_minor": 5
}
