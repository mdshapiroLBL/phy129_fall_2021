{
 "cells": [
  {
   "cell_type": "markdown",
   "metadata": {},
   "source": [
    "# Physics 129 Final Project #2"
   ]
  },
  {
   "cell_type": "markdown",
   "metadata": {},
   "source": [
    "## Parity Violation In Electron Scattering"
   ]
  },
  {
   "cell_type": "markdown",
   "metadata": {},
   "source": [
    "### Learning objectives\n",
    "In this question you will:\n",
    "\n",
    "- Introduce the concept of a parity violating asymmetry\n",
    "- Gain experience in data analysis using a data sample from the E158 experiment at SLAC\n",
    "- Explore strategies for correcting measurements for systematic variations\n",
    "- Use the measured correlations to translate between a \"raw\" (aka measured) asymmetry and corrected (aka \"true\") asymmetry\n",
    "- Determine confidence intervals for measured quantities\n"
   ]
  },
  {
   "cell_type": "markdown",
   "metadata": {
    "flags": [
     "problems",
     "solutions"
    ]
   },
   "source": [
    "The E158  experiment at SLAC measured a parity-violating asymmetry in M&ouml;ller (electron-electron) scattering. This was a fixed-target experiment, which scattered longitudinally-polarized electrons off atomic (unpolarized)\n",
    "electrons in a 1.5m liquid hydrogen target.   A schematic view of the experiment can be found below.\n",
    "\n",
    "<img src=\"E158.png\" alt=\"Drawing\" style=\"width: 600px;\"/>\n",
    "\n",
    "\n",
    "\n",
    "More details on E158 are available at https://www-project.slac.stanford.edu/e158/experiment.html\n",
    "\n",
    "\n",
    "The files provided here contain a snapshot of 10,000 \"events\" from this experiment (overall, the experiment collected almost 400 million such events over the course of about 4 months).\n",
    "Each event actually records a pair of pulses: one for the right-handed electron and one for the left-handed electron. For each event, 4 variables are recorded:\n",
    "\n",
    "- $\\bf \\text{Counter}$: A unique number labeling the event\n",
    "\n",
    "- $\\bf \\text{ Asym:}$ The \"raw\" cross section asymmetry from one of the detector channels (there are 50 of these overall). The cross section asymmetry is defined as:\n",
    "\n",
    "$$ A_{raw} = \\frac{\\sigma_R -\\sigma_L}{\\sigma_R +\\sigma_L} $$\n",
    "\n",
    "The asymmetry is recorded in units of PPM (parts per million). It is called \"raw\" because corrections due to the difference in beam properties at the target are not yet applied (see below). \n",
    "\n",
    "- $\\bf \\Delta X$:  The beam position at the target in the $x$-direction in microns (with the convention that the beam is traveling along Z).\n",
    "\n",
    "- $\\bf \\Delta Y$: The beam position at the target in the $y$-direction in microns}\n",
    "\n",
    "The data sample is provided in internal ROOT format (asymdata.root)\n",
    "and in plain text format (asymdata.txt).\n",
    "You are free to use either to answer the questions below."
   ]
  },
  {
   "cell_type": "markdown",
   "metadata": {},
   "source": [
    "### Part 1. Importing and Analyzing the Raw Data"
   ]
  },
  {
   "cell_type": "markdown",
   "metadata": {
    "flags": [
     "problems",
     "solutions"
    ]
   },
   "source": [
    "First, import the data as 3 numpy arrays, one for the asymmetry, and one for the x and y coordinates, respectively. Plot the distribution of these three parameters. Compute the mean of the raw asymmetry (Asym) distribution and its statistical uncertainty."
   ]
  },
  {
   "cell_type": "code",
   "execution_count": 4,
   "metadata": {},
   "outputs": [],
   "source": [
    "%matplotlib inline\n",
    "import numpy as np\n",
    "from matplotlib import pyplot as plt\n",
    "\n",
    "# Read in the data\n",
    "with open(\"asymdata.txt\",\"r\") as file:\n",
    "    lines = file.readlines()\n",
    "\n",
    "# This is the header\n",
    "count = []\n",
    "A = []\n",
    "Dx = []\n",
    "Dy = []\n",
    "for line in lines:\n",
    "    a = line.split(\" \")\n",
    "    k = 0\n",
    "    for i in range(len(a)):\n",
    "        for j in a[i]:\n",
    "            if j.isdigit():\n",
    "#                 print(j)\n",
    "#                 print(np.float64(a[i]))\n",
    "#                 print(k)\n",
    "#                 print(\"\\n\")\n",
    "                if k == 0: count.append(np.int(a[i]))\n",
    "                if k == 1: A.append(np.float64(a[i]))\n",
    "                if k == 2: Dx.append(np.float64(a[i]))\n",
    "                if k == 3: Dy.append(np.float64(a[i]))\n",
    "                k += 1\n",
    "                break\n"
   ]
  },
  {
   "cell_type": "markdown",
   "metadata": {},
   "source": [
    "### Part 2. Exploring Correlations "
   ]
  },
  {
   "cell_type": "markdown",
   "metadata": {
    "flags": [
     "problems",
     "solutions"
    ]
   },
   "source": [
    "Compute the correlation coefficients: ${\\rm Corr}(Asym,\\Delta X)$, ${\\rm Corr}(Asym,\\Delta Y)$, and ${\\rm Corr}(\\Delta X,\\Delta Y)$. Do NOT use built in numerical functions to do this. Instead, write a helper function `GetCorrelation(A,B)` which takes in 2 vectors, `A` and `B`, and returns the correlation coefficient. You may need to look up the definition of the correlation coefficients to do this. Which variables are approximately independent of each other?"
   ]
  },
  {
   "cell_type": "code",
   "execution_count": 5,
   "metadata": {
    "flags": [
     "problems",
     "solutions"
    ]
   },
   "outputs": [],
   "source": [
    "from mpl_toolkits.mplot3d import Axes3D\n",
    "def GetCorrelation(A,B):\n",
    "    N = len(A)\n",
    "    if (N != len(B)):\n",
    "        print(\"Error. Lengths of vectors don't match\")\n",
    "        return\n",
    "    # preset correlation to zero\n",
    "    corr = 0.0\n",
    "    # add your code here to find the correlation between A and B and fill the variable corr with that value\n",
    "    return corr\n"
   ]
  },
  {
   "cell_type": "markdown",
   "metadata": {},
   "source": [
    "Now make scatter plots comparing $(Asym,\\Delta X)$, $(Asym,\\Delta Y)$, and $(\\Delta X,\\Delta Y)$. Do the variables seem correlated in the ways you expect?"
   ]
  },
  {
   "cell_type": "markdown",
   "metadata": {},
   "source": [
    "### Part 3. Linear Regression"
   ]
  },
  {
   "cell_type": "markdown",
   "metadata": {
    "flags": [
     "problems",
     "solutions"
    ]
   },
   "source": [
    "A better estimator of the parity-violating asymmetry is the quantity that corrects for possible differences in the right- and left-handed electron pulses. We want to define a quantity:\n",
    "\n",
    "  $$  A_{PV} = A_{raw} - (a_x \\Delta X + b_x) - (a_y \\Delta Y + b_y)$$\n",
    "  with coefficients $a_i$ and $b_i$ defined in such a way that\n",
    "  $A_{PV}$ is independent of $\\Delta X$ and $\\Delta Y$.\n",
    "  This is called a linear regression. The lines $A_{raw} = a_y \\Delta Y + b_y$ and $A_{raw} = a_x \\Delta Y + b_x$ are the lines of best fit to the data for our two spatial parameters. For now, we will assume that $a_x$ and $b_x$ are negligible and focus only on $a_y$ and $b_y$. Compute these two fit parameters and their uncertainties using a least squares fit. Here you may use pre-built functions to build the correlation and covariance matrices. Using your values for $a_y$ and $b_y$, plot the line of best fit on top of the data and see how well it matches the data."
   ]
  },
  {
   "cell_type": "code",
   "execution_count": 6,
   "metadata": {},
   "outputs": [],
   "source": [
    "# put code here"
   ]
  },
  {
   "cell_type": "markdown",
   "metadata": {
    "flags": [
     "problems",
     "solutions"
    ]
   },
   "source": [
    "Now perform the regression by subracting off the line of best fit from every event in the data. Create another scatter plot of $Asym$ versus $\\Delta Y$ to check that the $\\Delta Y$ dependence has been removed, then compute the mean of the regressed asymmetry distribution $A_{PV}$ and its statistical uncertainty. Then, plot the histogram of the raw asymmetry distribution on top of a histogram of the regressed distribution. Is there an improvement in the resolution? By what factor has the uncertainty decreased?"
   ]
  },
  {
   "cell_type": "code",
   "execution_count": 7,
   "metadata": {
    "flags": [
     "problems",
     "solutions"
    ]
   },
   "outputs": [],
   "source": [
    "# put code here"
   ]
  },
  {
   "cell_type": "markdown",
   "metadata": {
    "flags": [
     "problems",
     "solutions"
    ]
   },
   "source": [
    "Compute the 90\\% \\; confidence interval for the true value of $A_{PV}$"
   ]
  },
  {
   "cell_type": "markdown",
   "metadata": {},
   "source": [
    "Now, repeat the same regression technique for $\\Delta X$ using the data you've already regressed as the raw data, i.e. Find the line of best fit $A_{PV} = a_x \\Delta Y + b_x$ and rotate away the dependence on $\\Delta X$. By how much does the resolution improve this time? Based on the correlation coefficients you calculated in Part 2, does this make sense?"
   ]
  },
  {
   "cell_type": "code",
   "execution_count": 8,
   "metadata": {
    "flags": [
     "problems",
     "solutions"
    ],
    "scrolled": true
   },
   "outputs": [],
   "source": [
    "# put code here"
   ]
  },
  {
   "cell_type": "markdown",
   "metadata": {},
   "source": [
    "### Part 4. Multivariate Regression"
   ]
  },
  {
   "cell_type": "markdown",
   "metadata": {},
   "source": [
    "The last type of analysis you will do takes into account the fact that $\\Delta X$ and $\\Delta Y$ are not independent, as you implicitly assumed in Part 3. We will now take the fact that $\\Delta X$ and $\\Delta Y$ are indeed correlated. Calculate the correlation matrix $C_ij$ in the 3-dimensional basis $\\{Asym, \\Delta X, \\Delta Y \\}$. Next, diagonalize this matrix. The change-of-basis matrix you get out is the matrix which \"rotates out\" all of the $\\Delta X, \\Delta Y$ dependence from $A_{raw}$. Now, take every event from $A_{raw}$ and write it as a vector in the aforementioned basis. Apply the rotation to this vector and call this $A_{PW}$. Compute the mean of your final new distribution and its statistical uncertainty. How does this uncertainty compare to those from Part 3?"
   ]
  },
  {
   "cell_type": "code",
   "execution_count": 9,
   "metadata": {},
   "outputs": [],
   "source": [
    "#put code here"
   ]
  },
  {
   "cell_type": "markdown",
   "metadata": {
    "flags": [
     "problems",
     "solutions"
    ]
   },
   "source": [
    "Again, compute the 90\\% confidence interval for the true value of $A_{PV}$. From this dataset, can you claim that you have measured an asymmetry in electron scattering?"
   ]
  },
  {
   "cell_type": "markdown",
   "metadata": {
    "flags": [
     "problems",
     "solutions"
    ]
   },
   "source": [
    "Check the hypothesis that the distribution of $A_{PV}$ is Gaussian. For this, you can bin the distribuition of $A_{PV}$ in a reasonable number of bins (e.g. 100) and compute the goodness-of-fit (or p) value for the Gaussian distribution. Estimate the confidence level (or probability that the hypothesis is correct)."
   ]
  },
  {
   "cell_type": "code",
   "execution_count": 10,
   "metadata": {},
   "outputs": [],
   "source": [
    "#put code here"
   ]
  },
  {
   "cell_type": "markdown",
   "metadata": {},
   "source": [
    "### Extensions\n",
    "\n",
    "Here are some ideas of how you could explore the data further, but you are welcome to take your project in a different direction.\n",
    "\n",
    "- **Estimate necessary running time** The SLAC E158 Collaboration measured a parity-violating asymmetry with a magnitude of 131 parts per million (ppm). Assuming that all of the remaining uncertainty in your dataset is statistical, not systematic, how many events would you need to measure an asymmetry of 131 ppm with 3$\\sigma$ significance? Did SLAC's experiment run long enough to do this? \n",
    "- **Time Dependence** One worry when experiments are making sensitive measurements is that the detector response might change with time.  The order in which the events are recorded above is the order in which they were collected.  Check to see if there is any time dependence in the measured cross section or asymmetry\n",
    "- **Visualization**  Think about ways to display the data to make your analysis strategy clear to the reader.  Provide several different ways of showing the same result and explain which is your favorite."
   ]
  }
 ],
 "metadata": {
  "kernelspec": {
   "display_name": "Python 3 (ipykernel)",
   "language": "python",
   "name": "python3"
  },
  "language_info": {
   "codemirror_mode": {
    "name": "ipython",
    "version": 3
   },
   "file_extension": ".py",
   "mimetype": "text/x-python",
   "name": "python",
   "nbconvert_exporter": "python",
   "pygments_lexer": "ipython3",
   "version": "3.9.7"
  }
 },
 "nbformat": 4,
 "nbformat_minor": 4
}
