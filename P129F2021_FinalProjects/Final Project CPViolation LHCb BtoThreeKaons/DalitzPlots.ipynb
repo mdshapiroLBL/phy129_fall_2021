{
 "cells": [
  {
   "cell_type": "markdown",
   "metadata": {},
   "source": [
    "# Dalitz Plots\n",
    "\n",
    "## What are Dalitz Plots ?\n",
    "\n",
    "A Dalitz plot is a visual representation of the phase-space of a three-body decay. It is named after it's inventor, Richard Dalitz (1925–2006).\n",
    "\n",
    "If there are no intermediate resonances in the three-body decay that is being analysed the plot is equally populated with events inside its physical boundaries.\n",
    "\n",
    "If there are intermediate resonances they show up as bands on the plot with a higher density of events. Let us take the case where B<sup>+</sup> → K<sup>+</sup>R<sup>0</sup>, where R<sup>0</sup> is a neutral particle resonance which can decay R<sup>0</sup> → K<sup>+</sup>K<sup>-</sup>. We would observe an enhanced band of events across the Dalitz plot at a mass corresponding to that of the particle R<sup>0</sup>. Particles also have a quantum mechanical property called spin. If R<sup>0</sup> has spin 0 then we will observe a continuous band of events across the plot. If R<sup>0</sup> has spin 1 then the band will  have a minima, for spin 2 particles it will have two minima. Where resonances overlap that can interfere with each other, a property analagous to interference in light that you may be familliar with.\n",
    "\n",
    "## How do we construct a Dalitz Plot?\n",
    "\n",
    "On each of the two axes of the Dalitz plot we plot a quantity with units of mass squared. Each of these masses correspond to the masses of a quasi-particle (R<sup>0</sup> above). It is the invariant mass of two final state particles combined. If we call the final state particles 1,2,3 these masses can be written m<sub>12</sub>, m<sub>23</sub>. The square of these masses is the mass plotted on the axes, as in this diagram (image credit: particle data group).\n",
    "\n",
    "<img src=\"../Images/dalitz_boundary.png\" width=\"400\" />\n",
    "\n",
    "These masses are constrained in the values that they can take, there are maximal and minimal possible masses that define the boundaries of the plot since energy and momentum are conserved. The limits of the plot are shown in the diagram, where M is the mass of the original particle (for us the B meson) that decayed into the three final state particles (for us the kaons)."
   ]
  }
 ],
 "metadata": {
  "kernelspec": {
   "display_name": "Python 2",
   "language": "python",
   "name": "python2"
  },
  "language_info": {
   "codemirror_mode": {
    "name": "ipython",
    "version": 2
   },
   "file_extension": ".py",
   "mimetype": "text/x-python",
   "name": "python",
   "nbconvert_exporter": "python",
   "pygments_lexer": "ipython2",
   "version": "2.7.11"
  }
 },
 "nbformat": 4,
 "nbformat_minor": 0
}
