{
 "cells": [
  {
   "cell_type": "markdown",
   "metadata": {},
   "source": [
    "# Studying the $Z$ boson using data from CMS"
   ]
  },
  {
   "cell_type": "markdown",
   "metadata": {},
   "source": [
    "## Introduction"
   ]
  },
  {
   "cell_type": "markdown",
   "metadata": {},
   "source": [
    "The Compact Muon Solenoid (CMS) is a general-purpose detector at the Large Hadron Collider (LHC). It has a broad physics programme ranging from studying the Standard Model (including the Higgs boson) to searching for extra dimensions and particles that could make up dark matter. Although it has the same scientific goals as the ATLAS experiment, it uses different technical solutions and a different magnet-system design.\n",
    "\n",
    "The CMS detector is built around a huge solenoid magnet. This takes the form of a cylindrical coil of superconducting cable that generates a field of 4 tesla, about 100,000 times the magnetic field of the Earth. The field is confined by a steel “yoke” that forms the bulk of the detector’s 14,000-tonne weight.\n",
    "\n",
    "The CMS detector is shaped like a cylindrical onion, with several concentric layers of components. The silicon tracker is the innermost layer, surrounded by the electromagnetic and hadronic caloimeters. The superconducting solenoid surrounds the calorimeters and lies within the muon system."
   ]
  },
  {
   "cell_type": "markdown",
   "metadata": {},
   "source": [
    "<div style=\"width: 500px;margin: auto\" align=\"center\">\n",
    "    <img src=\"1920px-CMS_160312_06.png\">\n",
    "    Figure 1. The CMS Detector\n",
    "</div>\n"
   ]
  },
  {
   "cell_type": "markdown",
   "metadata": {},
   "source": [
    "## Goals"
   ]
  },
  {
   "cell_type": "markdown",
   "metadata": {},
   "source": [
    "Study the properties of the $Z$ boson using dimuon and dielectron data from CMS. Key properties include the cross-section, mass and width. You will need to estimate the backgrounds to each sample from the data. \n",
    "\n",
    "The cross-section can be calculated using the following formula:\n",
    "\n",
    "$$ \\sigma = \\frac{S - B}{A \\times E \\times L}$$\n",
    "\n",
    "where\n",
    "* S is the number of signal events\n",
    "* B is the number of background events\n",
    "* A is the acceptance\n",
    "* E is the efficiency\n",
    "* L is the luminosity\n",
    "\n",
    "In the dataset that you are analysing you are given the following values\n",
    "* The luminosity is 20 pb$^{-1}$.\n",
    "* The acceptance is 40%\n",
    "* The efficiency is 90% for the dimuons and 75% for the dielectrons\n",
    "\n",
    "Please note that you could expect to reproduce the cross-section to within 20%.\n",
    "\n",
    "References: \n",
    "* CMS paper: https://arxiv.org/pdf/1107.4789.pdf\n",
    "* PDG : http://pdg.lbl.gov/2019/listings/rpp2019-list-z-boson.pdf\n",
    "\n",
    "<div style=\"width: 500px;margin: auto\" align=\"center\">\n",
    "    <img src=\"Zmumu.png\">\n",
    "    Invariant mass distributions for the $Z \\rightarrow \\mu\\mu$ process\n",
    "</div>\n",
    "\n",
    "<div style=\"width: 500px;margin: auto\" align=\"center\">\n",
    "    <img src=\"Zee.png\">\n",
    "    Invariant mass distributions for the $Z \\rightarrow ee$ process\n",
    "</div>"
   ]
  },
  {
   "cell_type": "markdown",
   "metadata": {},
   "source": [
    "## The Dataset"
   ]
  },
  {
   "cell_type": "markdown",
   "metadata": {},
   "source": [
    "A set of selection cuts have been applied to the data collected by the CMS experiment. \n",
    "\n",
    "In the muon dataset, only events with two muons were kept. The following selection requirements (or cuts) were applied to the muons\n",
    "\n",
    "\n",
    "* Both muons are \"global\" muons\n",
    "* 60 < $M_{\\mu\\mu} < 120$ GeV\n",
    "* |$\\eta$| < 2.1 for both muons\n",
    "* $p_{t}$ > 20 GeV\n",
    "\n",
    "These requirements ensure that the muons are of high quality and that there is little background. The luminosity of the dataset corresponds to $2.1$fb$^{-1}$.\n",
    "\n",
    "In the electron dataset, only events with two electrons were kept. The following selection requirements (or cuts) were applied to the electrons\n",
    "\n",
    "* 60 < $M_{ee}$ < 120 GeV\n",
    "* $p_{t}$ > 25 GeV\n",
    "\n",
    "The following code will read in the data and print out the available variables in the dataset. It can be applied to either the muon or the electron data files.\n"
   ]
  },
  {
   "cell_type": "code",
   "execution_count": 63,
   "metadata": {},
   "outputs": [
    {
     "name": "stdout",
     "output_type": "stream",
     "text": [
      "Run\n",
      "Event\n",
      "pt1\n",
      "eta1\n",
      "phi1\n",
      "Q1\n",
      "type1\n",
      "sigmaEtaEta1\n",
      "HoverE1\n",
      "isoTrack1\n",
      "isoEcal1\n",
      "isoHcal1\n",
      "pt2\n",
      "eta2\n",
      "phi2\n",
      "Q2\n",
      "type2\n",
      "sigmaEtaEta2\n",
      "HoverE2\n",
      "isoTrack2\n",
      "isoEcal2\n",
      "isoHcal2\n"
     ]
    }
   ],
   "source": [
    "import pandas as pd #pandas is a convenient tool to analyse the data; however you don't have to use it if you don't want to\n",
    "import numpy as np\n",
    "import matplotlib.pyplot as plt\n",
    "\n",
    "# Jupyter Notebook uses \"magic functions\". With this function it is possible to plot\n",
    "# the histogram straight to notebook.\n",
    "%matplotlib inline\n",
    "\n",
    "# Create a new DataFrame structure from the file \"DoubleMuRun2011A.csv\"\n",
    "dataset = pd.read_csv('Zmumu_Run2011A.csv')\n",
    "#dataset = pd.read_csv('Zee_Run2011A.csv')\n",
    "\n",
    "# This will list the available variables in the dataset\n",
    "for element in dataset:\n",
    "    print(element)\n",
    "\n"
   ]
  },
  {
   "cell_type": "markdown",
   "metadata": {},
   "source": [
    "Each element in the dataset is simply a variable.\n",
    "\n",
    "For the muons, the variables are as follows:\n",
    "* Run, Event are the run and event numbers, respectively\n",
    "* pt is the transverse momentum $p_{t}$ of the muon\n",
    "* eta is the pseudorapidity of the muon: $\\eta$\n",
    "* phi is the $\\phi$ angle of the muon direction\n",
    "* Q is the charge of the muon\n",
    "* dxy is the impact parameter in the transverse plane: $d_{xy}$\n",
    "* iso is the track isolation: $I_{track}$\n",
    "\n",
    "For the electrons, the variables are as follows:\n",
    "* Run, Event are the run and event numbers, respectively\n",
    "* pt is the transverse momentum $p_{t}$ of the electron\n",
    "* eta is the pseudorapidity of the electron: $\\eta$\n",
    "* phi is the $\\phi$ angle of the electron direction\n",
    "* Q is the charge of the electron\n",
    "* type is either EB or EE: whether the electron is in the barrel or in the endcap\n",
    "* sigmaEtaEta is the weighted cluster rms along $\\eta$: $\\sigma_{\\eta\\eta}$\n",
    "* HoverE is the HCAL energy / ECAL energy\n",
    "* isoTrack is the isolation variable for tracks\n",
    "* isoEcal is the isolation variable for the ECAL\n",
    "* isoHcal is the isolation variable for the HCAL"
   ]
  },
  {
   "cell_type": "code",
   "execution_count": 41,
   "metadata": {},
   "outputs": [],
   "source": [
    "#  Suggested starting point (you'll want to do this for both the muon and electron data)"
   ]
  },
  {
   "cell_type": "markdown",
   "metadata": {},
   "source": [
    "Become familiar with the contents of the dataset by plotting out different variables.\n",
    "\n",
    "\n",
    "\n",
    "\n",
    "\n"
   ]
  },
  {
   "cell_type": "code",
   "execution_count": null,
   "metadata": {},
   "outputs": [],
   "source": [
    "Calculate the invariant mass of the pair of muons in each event. Plot this mass and identify the $Z$-boson.\n"
   ]
  },
  {
   "cell_type": "markdown",
   "metadata": {},
   "source": [
    "In this analysis, there is little background, however, we will check if we should tighten any of our selection cuts. Define a range in the invariant mass around the $Z$ boson where there is signal but very little background. Select the events within that window and plot the properties of the other variables, e.g. the momentum, impact parameter, isolation, etc. Next select the events below and above that window (these we will call the sidebands) and make the same set of plots. Do you observe any significant differences in the distributions between the signal and the background? Determine and apply any additional selection cuts."
   ]
  },
  {
   "cell_type": "markdown",
   "metadata": {},
   "source": [
    "Fit the data to determine the properties of the $Z$ boson and estimate the background. Choose appropriate functions for the signal and the background. Fit the data and estimate\n",
    "* Number of signal events\n",
    "* Number of background events\n",
    "* Mass\n",
    "* Width"
   ]
  },
  {
   "cell_type": "markdown",
   "metadata": {},
   "source": [
    "# Extensions\n",
    "\n"
   ]
  },
  {
   "cell_type": "markdown",
   "metadata": {},
   "source": [
    "Here are some ideas about how you could explore the data further, but you're welcome to take your project in a different direction\n",
    "\n",
    "* Make some event displays for several of your candidate events.\n",
    "* Calculate the statistical uncertainty on your cross-section\n",
    "* Identify the main systematic uncertainties on your cross-section measurement\n",
    "* Develop a tag-and-probe method to measure the efficiency of your selection cuts\n",
    "* Divide the electron data into 4 categories depending on whether each of the electrons is located in the barrel and the end-cap. How does the resolution and background rate compare between the categories?"
   ]
  },
  {
   "cell_type": "code",
   "execution_count": null,
   "metadata": {},
   "outputs": [],
   "source": []
  }
 ],
 "metadata": {
  "kernelspec": {
   "display_name": "Python 3",
   "language": "python",
   "name": "python3"
  },
  "language_info": {
   "codemirror_mode": {
    "name": "ipython",
    "version": 3
   },
   "file_extension": ".py",
   "mimetype": "text/x-python",
   "name": "python",
   "nbconvert_exporter": "python",
   "pygments_lexer": "ipython3",
   "version": "3.8.6"
  }
 },
 "nbformat": 4,
 "nbformat_minor": 2
}
